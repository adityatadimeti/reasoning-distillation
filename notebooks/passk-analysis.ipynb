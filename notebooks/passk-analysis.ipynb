{
 "cells": [
  {
   "cell_type": "code",
   "execution_count": 2,
   "metadata": {},
   "outputs": [],
   "source": [
    "import json\n",
    "orig_results = json.load(open(\".././results/aime_2024_pass_consensus_14b_fresh/aime_2024_pass_consensus_14b_fresh_20250510_130410/results.json\"))"
   ]
  },
  {
   "cell_type": "code",
   "execution_count": 3,
   "metadata": {},
   "outputs": [],
   "source": [
    "# orig_results['results']"
   ]
  },
  {
   "cell_type": "code",
   "execution_count": 4,
   "metadata": {},
   "outputs": [
    {
     "data": {
      "text/plain": [
       "['2024-II-12',\n",
       " '2024-I-11',\n",
       " '2024-I-8',\n",
       " '2024-II-11',\n",
       " '2024-I-12',\n",
       " '2024-I-2',\n",
       " '2024-II-3',\n",
       " '2024-I-13',\n",
       " '2024-II-7',\n",
       " '2024-I-15',\n",
       " '2024-II-15',\n",
       " '2024-II-9',\n",
       " '2024-II-14',\n",
       " '2024-II-5',\n",
       " '2024-II-2',\n",
       " '2024-I-9',\n",
       " '2024-I-10',\n",
       " '2024-II-8',\n",
       " '2024-I-14',\n",
       " '2024-I-5',\n",
       " '2024-II-13',\n",
       " '2',\n",
       " '4',\n",
       " '5',\n",
       " '6',\n",
       " '7',\n",
       " '9',\n",
       " '10',\n",
       " '11']"
      ]
     },
     "execution_count": 4,
     "metadata": {},
     "output_type": "execute_result"
    }
   ],
   "source": [
    "pids_to_rerun = []\n",
    "all_pids = []\n",
    "for result in orig_results['results']:\n",
    "    finish_reason_length = False\n",
    "    for solution in result['solutions']:\n",
    "        if solution['finish_reason'] == 'length':\n",
    "            finish_reason_length = True\n",
    "            break\n",
    "    all_pids.append(result['problem_id'])\n",
    "    if finish_reason_length:\n",
    "        pids_to_rerun.append(result['problem_id'])\n",
    "\n",
    "pids_to_rerun"
   ]
  },
  {
   "cell_type": "code",
   "execution_count": 5,
   "metadata": {},
   "outputs": [
    {
     "data": {
      "text/plain": [
       "45"
      ]
     },
     "execution_count": 5,
     "metadata": {},
     "output_type": "execute_result"
    }
   ],
   "source": [
    "len(all_pids)"
   ]
  },
  {
   "cell_type": "code",
   "execution_count": 6,
   "metadata": {},
   "outputs": [
    {
     "name": "stdout",
     "output_type": "stream",
     "text": [
      "question_ids=2024-II-12,2024-I-11,2024-I-8,2024-II-11,2024-I-12,2024-I-2,2024-II-3,2024-I-13,2024-II-7,2024-I-15,2024-II-15,2024-II-9,2024-II-14,2024-II-5,2024-II-2,2024-I-9,2024-I-10,2024-II-8,2024-I-14,2024-I-5,2024-II-13,2,4,5,6,7,9,10,11\n"
     ]
    }
   ],
   "source": [
    "print(\"question_ids=\" + \",\".join(pids_to_rerun))"
   ]
  },
  {
   "cell_type": "code",
   "execution_count": 7,
   "metadata": {},
   "outputs": [],
   "source": [
    "reran_results = json.load(open(\"../results/aime_2024_pass_consensus_14b_fresh/aime_2024_pass_consensus_14b_fresh_20250510_153116/results.json\"))"
   ]
  },
  {
   "cell_type": "code",
   "execution_count": 8,
   "metadata": {},
   "outputs": [],
   "source": [
    "# \",\".join(list(need2run))"
   ]
  },
  {
   "cell_type": "code",
   "execution_count": 9,
   "metadata": {},
   "outputs": [],
   "source": [
    "last_15_results = json.load(open(\"../results/aime_2024_pass_consensus_14b_fresh/aime_2024_pass_consensus_14b_fresh_20250510_203613/results.json\"))"
   ]
  },
  {
   "cell_type": "code",
   "execution_count": 10,
   "metadata": {},
   "outputs": [
    {
     "data": {
      "text/plain": [
       "['2024-I-4',\n",
       " '2024-II-4',\n",
       " '2024-I-3',\n",
       " '2024-II-12',\n",
       " '2024-I-11',\n",
       " '2024-I-8',\n",
       " '2024-II-11',\n",
       " '2024-I-12',\n",
       " '2024-I-2',\n",
       " '2024-II-6',\n",
       " '2024-I-7',\n",
       " '2024-I-1',\n",
       " '2024-I-6',\n",
       " '2024-II-3',\n",
       " '2024-I-13',\n",
       " '2024-II-10',\n",
       " '2024-II-7',\n",
       " '2024-I-15',\n",
       " '2024-II-15',\n",
       " '2024-II-9',\n",
       " '2024-II-1',\n",
       " '2024-II-14',\n",
       " '2024-II-5',\n",
       " '2024-II-2',\n",
       " '2024-I-9',\n",
       " '2024-I-10',\n",
       " '2024-II-8',\n",
       " '1',\n",
       " '0',\n",
       " '2024-I-14',\n",
       " '2024-I-5',\n",
       " '2024-II-13',\n",
       " '3',\n",
       " '2',\n",
       " '4',\n",
       " '8',\n",
       " '5',\n",
       " '6',\n",
       " '7',\n",
       " '9',\n",
       " '10',\n",
       " '15',\n",
       " '16',\n",
       " '11',\n",
       " '18']"
      ]
     },
     "execution_count": 10,
     "metadata": {},
     "output_type": "execute_result"
    }
   ],
   "source": [
    "orig_pids = [result['problem_id'] for result in orig_results['results']]\n",
    "orig_pids"
   ]
  },
  {
   "cell_type": "code",
   "execution_count": 11,
   "metadata": {},
   "outputs": [
    {
     "data": {
      "text/plain": [
       "['2024-II-12',\n",
       " '2024-I-8',\n",
       " '2024-I-12',\n",
       " '2024-I-11',\n",
       " '2024-II-11',\n",
       " '2024-I-2',\n",
       " '2024-II-3',\n",
       " '2024-II-7',\n",
       " '2024-I-13',\n",
       " '2024-I-15',\n",
       " '2024-II-15',\n",
       " '2024-II-9',\n",
       " '2024-II-14',\n",
       " '2024-II-5',\n",
       " '2024-I-9',\n",
       " '2024-II-2',\n",
       " '2024-I-10',\n",
       " '2024-II-8',\n",
       " '2024-I-14',\n",
       " '2024-I-5',\n",
       " '2024-II-13',\n",
       " '2',\n",
       " '4',\n",
       " '5',\n",
       " '6',\n",
       " '7',\n",
       " '9',\n",
       " '10',\n",
       " '11']"
      ]
     },
     "execution_count": 11,
     "metadata": {},
     "output_type": "execute_result"
    }
   ],
   "source": [
    "reran_pids = [result['problem_id'] for result in reran_results['results']]\n",
    "reran_pids"
   ]
  },
  {
   "cell_type": "code",
   "execution_count": 12,
   "metadata": {},
   "outputs": [
    {
     "data": {
      "text/plain": [
       "['12',\n",
       " '13',\n",
       " '14',\n",
       " '17',\n",
       " '19',\n",
       " '20',\n",
       " '21',\n",
       " '22',\n",
       " '23',\n",
       " '24',\n",
       " '25',\n",
       " '26',\n",
       " '27',\n",
       " '28',\n",
       " '29']"
      ]
     },
     "execution_count": 12,
     "metadata": {},
     "output_type": "execute_result"
    }
   ],
   "source": [
    "last_15_pids = [result['problem_id'] for result in last_15_results['results']]\n",
    "last_15_pids"
   ]
  },
  {
   "cell_type": "code",
   "execution_count": 13,
   "metadata": {},
   "outputs": [],
   "source": [
    "orig_results_cleaned = []\n",
    "for result in orig_results['results']:\n",
    "    if result['problem_id'] not in reran_pids:\n",
    "        orig_results_cleaned.append(result)\n",
    "# orig_results_cleaned"
   ]
  },
  {
   "cell_type": "code",
   "execution_count": 14,
   "metadata": {},
   "outputs": [
    {
     "data": {
      "text/plain": [
       "['2024-I-4',\n",
       " '2024-II-4',\n",
       " '2024-I-3',\n",
       " '2024-II-6',\n",
       " '2024-I-7',\n",
       " '2024-I-1',\n",
       " '2024-I-6',\n",
       " '2024-II-10',\n",
       " '2024-II-1',\n",
       " '1',\n",
       " '0',\n",
       " '3',\n",
       " '8',\n",
       " '15',\n",
       " '16',\n",
       " '18']"
      ]
     },
     "execution_count": 14,
     "metadata": {},
     "output_type": "execute_result"
    }
   ],
   "source": [
    "# orig_pids = [result['problem_id'] for result in orig_results['results']]\n",
    "# orig_pids\n",
    "\n",
    "orig_pids_cleaned = [b['problem_id'] for b in orig_results_cleaned]\n",
    "orig_pids_cleaned"
   ]
  },
  {
   "cell_type": "code",
   "execution_count": 15,
   "metadata": {},
   "outputs": [
    {
     "data": {
      "text/plain": [
       "60"
      ]
     },
     "execution_count": 15,
     "metadata": {},
     "output_type": "execute_result"
    }
   ],
   "source": [
    "len(orig_pids_cleaned) + len(reran_pids) + len(last_15_pids)"
   ]
  },
  {
   "cell_type": "code",
   "execution_count": 16,
   "metadata": {},
   "outputs": [
    {
     "data": {
      "text/plain": [
       "True"
      ]
     },
     "execution_count": 16,
     "metadata": {},
     "output_type": "execute_result"
    }
   ],
   "source": [
    "orig_results_cleaned[0]['consensus_correct']"
   ]
  },
  {
   "cell_type": "code",
   "execution_count": 17,
   "metadata": {},
   "outputs": [],
   "source": [
    "error_pids = set()"
   ]
  },
  {
   "cell_type": "code",
   "execution_count": 18,
   "metadata": {},
   "outputs": [],
   "source": [
    "consensus_correct_pids = set()"
   ]
  },
  {
   "cell_type": "code",
   "execution_count": 19,
   "metadata": {},
   "outputs": [
    {
     "data": {
      "text/plain": [
       "16"
      ]
     },
     "execution_count": 19,
     "metadata": {},
     "output_type": "execute_result"
    }
   ],
   "source": [
    "orig_results_total_consensus_correct = 0\n",
    "for res in orig_results_cleaned:\n",
    "    if res['consensus_correct']:\n",
    "        orig_results_total_consensus_correct += 1\n",
    "        consensus_correct_pids.add(res['problem_id'])\n",
    "orig_results_total_consensus_correct"
   ]
  },
  {
   "cell_type": "code",
   "execution_count": 20,
   "metadata": {},
   "outputs": [
    {
     "name": "stdout",
     "output_type": "stream",
     "text": [
      "error for:  {'problem_id': '5', 'question': 'Circle $\\\\omega_1$ with radius 6 centered at point $A$ is internally tangent at point $B$ to circle $\\\\omega_2$ with radius 15. Points $C$ and $D$ lie on $\\\\omega_2$ such that $\\\\overline{BC}$ is a diameter of $\\\\omega_2$ and $\\\\overline{BC} \\\\perp \\\\overline{AD}$. The rectangle $EFGH$ is inscribed in $\\\\omega_1$ such that $\\\\overline{EF} \\\\perp \\\\overline{BC}$, $C$ is closer to $\\\\overline{GH}$ than to $\\\\overline{EF}$, and $D$ is closer to $\\\\overline{FG}$ than to $\\\\overline{EH}$, as shown. Triangles $\\\\triangle DGF$ and $\\\\triangle CHG$ have equal areas. The area of rectangle $EFGH$ is $\\\\frac{m}{n}$, where $m$ and $n$ are relatively prime positive integers. Find $m + n$.', 'error': '', 'status': 'error'}\n",
      "error for:  {'problem_id': '11', 'question': 'Let $ A_1A_2 \\\\ldots A_{11} $ be an 11-sided non-convex simple polygon with the following properties:\\n* The area of $ A_iA_1A_{i+1} $ is 1 for each $ 2 \\\\leq i \\\\leq 10 $,\\n* $ \\\\cos(\\\\angle A_iA_1A_{i+1}) = \\\\frac{12}{13} $ for each $ 2 \\\\leq i \\\\leq 10 $,\\n* The perimeter of $ A_1A_2 \\\\ldots A_{11} $ is 20.\\nIf $ A_1A_2 + A_1A_{11} $ can be expressed as $ \\\\frac{m\\\\sqrt{n} - p}{q} $ for positive integers $ m, n, p, q $ with $ n $ squarefree and no prime divides all of $ m, p, q$, find $ m + n + p + q $.', 'error': '', 'status': 'error'}\n"
     ]
    },
    {
     "data": {
      "text/plain": [
       "18"
      ]
     },
     "execution_count": 20,
     "metadata": {},
     "output_type": "execute_result"
    }
   ],
   "source": [
    "reran_results_total_consensus_correct = 0\n",
    "for res in reran_results['results']:\n",
    "    if 'consensus_correct' not in res:\n",
    "        print(\"error for: \", res)\n",
    "        error_pids.add(res['problem_id'])\n",
    "        continue\n",
    "    if res['consensus_correct']:\n",
    "        reran_results_total_consensus_correct += 1\n",
    "        consensus_correct_pids.add(res['problem_id'])\n",
    "reran_results_total_consensus_correct"
   ]
  },
  {
   "cell_type": "code",
   "execution_count": 21,
   "metadata": {},
   "outputs": [
    {
     "data": {
      "text/plain": [
       "8"
      ]
     },
     "execution_count": 21,
     "metadata": {},
     "output_type": "execute_result"
    }
   ],
   "source": [
    "last_15_results_total_consensus_correct = 0\n",
    "for res in last_15_results['results']:\n",
    "    if 'consensus_correct' not in res:\n",
    "        print(\"error for: \", res)\n",
    "        error_pids.add(res['problem_id'])\n",
    "        continue\n",
    "    if res['consensus_correct']:\n",
    "        last_15_results_total_consensus_correct += 1\n",
    "        consensus_correct_pids.add(res['problem_id'])\n",
    "last_15_results_total_consensus_correct"
   ]
  },
  {
   "cell_type": "code",
   "execution_count": 22,
   "metadata": {},
   "outputs": [
    {
     "data": {
      "text/plain": [
       "42"
      ]
     },
     "execution_count": 22,
     "metadata": {},
     "output_type": "execute_result"
    }
   ],
   "source": [
    "orig_results_total_consensus_correct + reran_results_total_consensus_correct + last_15_results_total_consensus_correct"
   ]
  },
  {
   "cell_type": "code",
   "execution_count": 23,
   "metadata": {},
   "outputs": [
    {
     "data": {
      "text/plain": [
       "42"
      ]
     },
     "execution_count": 23,
     "metadata": {},
     "output_type": "execute_result"
    }
   ],
   "source": [
    "len(consensus_correct_pids)"
   ]
  },
  {
   "cell_type": "code",
   "execution_count": 24,
   "metadata": {},
   "outputs": [
    {
     "name": "stdout",
     "output_type": "stream",
     "text": [
      "16\n",
      "error for:  {'problem_id': '5', 'question': 'Circle $\\\\omega_1$ with radius 6 centered at point $A$ is internally tangent at point $B$ to circle $\\\\omega_2$ with radius 15. Points $C$ and $D$ lie on $\\\\omega_2$ such that $\\\\overline{BC}$ is a diameter of $\\\\omega_2$ and $\\\\overline{BC} \\\\perp \\\\overline{AD}$. The rectangle $EFGH$ is inscribed in $\\\\omega_1$ such that $\\\\overline{EF} \\\\perp \\\\overline{BC}$, $C$ is closer to $\\\\overline{GH}$ than to $\\\\overline{EF}$, and $D$ is closer to $\\\\overline{FG}$ than to $\\\\overline{EH}$, as shown. Triangles $\\\\triangle DGF$ and $\\\\triangle CHG$ have equal areas. The area of rectangle $EFGH$ is $\\\\frac{m}{n}$, where $m$ and $n$ are relatively prime positive integers. Find $m + n$.', 'error': '', 'status': 'error'}\n",
      "error for:  {'problem_id': '11', 'question': 'Let $ A_1A_2 \\\\ldots A_{11} $ be an 11-sided non-convex simple polygon with the following properties:\\n* The area of $ A_iA_1A_{i+1} $ is 1 for each $ 2 \\\\leq i \\\\leq 10 $,\\n* $ \\\\cos(\\\\angle A_iA_1A_{i+1}) = \\\\frac{12}{13} $ for each $ 2 \\\\leq i \\\\leq 10 $,\\n* The perimeter of $ A_1A_2 \\\\ldots A_{11} $ is 20.\\nIf $ A_1A_2 + A_1A_{11} $ can be expressed as $ \\\\frac{m\\\\sqrt{n} - p}{q} $ for positive integers $ m, n, p, q $ with $ n $ squarefree and no prime divides all of $ m, p, q$, find $ m + n + p + q $.', 'error': '', 'status': 'error'}\n",
      "23\n"
     ]
    },
    {
     "data": {
      "text/plain": [
       "47"
      ]
     },
     "execution_count": 24,
     "metadata": {},
     "output_type": "execute_result"
    }
   ],
   "source": [
    "pass_k_problems = set()\n",
    "\n",
    "orig_results_total_pass_at_k = 0\n",
    "for res in orig_results_cleaned:\n",
    "    if res['pass_at_k']:\n",
    "        orig_results_total_pass_at_k += 1\n",
    "        pass_k_problems.add(res['problem_id'])\n",
    "print(orig_results_total_pass_at_k)\n",
    "\n",
    "reran_results_total_pass_at_k = 0\n",
    "for res in reran_results['results']:\n",
    "    if 'pass_at_k' not in res:\n",
    "        print(\"error for: \", res)\n",
    "        error_pids.add(res['problem_id'])\n",
    "        continue\n",
    "    if res['pass_at_k']:\n",
    "        reran_results_total_pass_at_k += 1\n",
    "        pass_k_problems.add(res['problem_id'])\n",
    "print(reran_results_total_pass_at_k)\n",
    "\n",
    "\n",
    "last_15_results_total_pass_at_k = 0\n",
    "for res in last_15_results['results']:\n",
    "    if 'pass_at_k' not in res:\n",
    "        print(\"error for: \", res)\n",
    "        print(res.keys())\n",
    "        error_pids.add(res['problem_id'])\n",
    "        continue\n",
    "    if res['pass_at_k']:\n",
    "        last_15_results_total_pass_at_k += 1\n",
    "        pass_k_problems.add(res['problem_id'])\n",
    "last_15_results_total_pass_at_k\n",
    "\n",
    "orig_results_total_pass_at_k + reran_results_total_pass_at_k + last_15_results_total_pass_at_k "
   ]
  },
  {
   "cell_type": "code",
   "execution_count": 25,
   "metadata": {},
   "outputs": [
    {
     "data": {
      "text/plain": [
       "47"
      ]
     },
     "execution_count": 25,
     "metadata": {},
     "output_type": "execute_result"
    }
   ],
   "source": [
    "len(pass_k_problems)"
   ]
  },
  {
   "cell_type": "code",
   "execution_count": 26,
   "metadata": {},
   "outputs": [],
   "source": [
    "summ_results = json.load(open(\"../results/aime_deepseek_qwen_14b_summ_base_sum_4iter_fresh/aime_deepseek_qwen_14b_summ_base_sum_4iter_fresh_20250508_171556/results.json\"))\n",
    "# summ_results['results']"
   ]
  },
  {
   "cell_type": "code",
   "execution_count": 27,
   "metadata": {},
   "outputs": [
    {
     "data": {
      "text/plain": [
       "38"
      ]
     },
     "execution_count": 27,
     "metadata": {},
     "output_type": "execute_result"
    }
   ],
   "source": [
    "summ_correct_problems = set()\n",
    "for res in summ_results['results']:\n",
    "    if res['final_correct']:\n",
    "        summ_correct_problems.add(res['problem_id'])\n",
    "len(summ_correct_problems)\n"
   ]
  },
  {
   "cell_type": "code",
   "execution_count": 28,
   "metadata": {},
   "outputs": [
    {
     "data": {
      "text/plain": [
       "{'0',\n",
       " '1',\n",
       " '10',\n",
       " '13',\n",
       " '15',\n",
       " '16',\n",
       " '17',\n",
       " '18',\n",
       " '2',\n",
       " '20',\n",
       " '2024-I-1',\n",
       " '2024-I-10',\n",
       " '2024-I-13',\n",
       " '2024-I-14',\n",
       " '2024-I-15',\n",
       " '2024-I-2',\n",
       " '2024-I-3',\n",
       " '2024-I-4',\n",
       " '2024-I-5',\n",
       " '2024-I-6',\n",
       " '2024-I-7',\n",
       " '2024-I-8',\n",
       " '2024-I-9',\n",
       " '2024-II-1',\n",
       " '2024-II-10',\n",
       " '2024-II-11',\n",
       " '2024-II-12',\n",
       " '2024-II-13',\n",
       " '2024-II-14',\n",
       " '2024-II-2',\n",
       " '2024-II-3',\n",
       " '2024-II-4',\n",
       " '2024-II-5',\n",
       " '2024-II-6',\n",
       " '2024-II-7',\n",
       " '2024-II-8',\n",
       " '21',\n",
       " '23',\n",
       " '24',\n",
       " '26',\n",
       " '28',\n",
       " '3',\n",
       " '4',\n",
       " '6',\n",
       " '7',\n",
       " '8',\n",
       " '9'}"
      ]
     },
     "execution_count": 28,
     "metadata": {},
     "output_type": "execute_result"
    }
   ],
   "source": [
    "pass_k_problems"
   ]
  },
  {
   "cell_type": "code",
   "execution_count": 29,
   "metadata": {},
   "outputs": [
    {
     "data": {
      "text/plain": [
       "36"
      ]
     },
     "execution_count": 29,
     "metadata": {},
     "output_type": "execute_result"
    }
   ],
   "source": [
    "len(pass_k_problems.intersection(summ_correct_problems))"
   ]
  },
  {
   "cell_type": "code",
   "execution_count": 30,
   "metadata": {},
   "outputs": [
    {
     "data": {
      "text/plain": [
       "{'11', '22'}"
      ]
     },
     "execution_count": 30,
     "metadata": {},
     "output_type": "execute_result"
    }
   ],
   "source": [
    "# are there any problems in summ_correct_problems that are not in pass_k_problems?\n",
    "summ_correct_problems - pass_k_problems"
   ]
  },
  {
   "cell_type": "code",
   "execution_count": 33,
   "metadata": {},
   "outputs": [
    {
     "data": {
      "text/plain": [
       "'--question_ids=2024-II-8,2,10,7,2024-I-8'"
      ]
     },
     "execution_count": 33,
     "metadata": {},
     "output_type": "execute_result"
    }
   ],
   "source": [
    "# problems that pass@k gets that consensus@k does not\n",
    "goldilocks_problems = pass_k_problems - consensus_correct_pids\n",
    "\"--question_ids=\"+\",\".join(goldilocks_problems)"
   ]
  },
  {
   "cell_type": "code",
   "execution_count": 32,
   "metadata": {},
   "outputs": [
    {
     "data": {
      "text/plain": [
       "47"
      ]
     },
     "execution_count": 32,
     "metadata": {},
     "output_type": "execute_result"
    }
   ],
   "source": [
    "len(pass_k_problems)\n"
   ]
  },
  {
   "cell_type": "code",
   "execution_count": 36,
   "metadata": {},
   "outputs": [
    {
     "data": {
      "text/plain": [
       "43"
      ]
     },
     "execution_count": 36,
     "metadata": {},
     "output_type": "execute_result"
    }
   ],
   "source": [
    "backtracking_results = json.load(open(\"../merged_results_20250512_140735_all60_backtracking.json\"))\n",
    "backtracking_correct_problems = set()\n",
    "for res in backtracking_results['results']:\n",
    "    if res['final_correct']:\n",
    "        backtracking_correct_problems.add(res['problem_id'])\n",
    "len(backtracking_correct_problems)\n"
   ]
  },
  {
   "cell_type": "code",
   "execution_count": 38,
   "metadata": {},
   "outputs": [
    {
     "data": {
      "text/plain": [
       "{'11', '19', '5'}"
      ]
     },
     "execution_count": 38,
     "metadata": {},
     "output_type": "execute_result"
    }
   ],
   "source": [
    "backtracking_correct_problems - pass_k_problems"
   ]
  },
  {
   "cell_type": "markdown",
   "metadata": {},
   "source": [
    "DeepSeek R1"
   ]
  },
  {
   "cell_type": "code",
   "execution_count": 40,
   "metadata": {},
   "outputs": [],
   "source": [
    "r1_passk_results = json.load(open(\"../results/aime_2024_pass_consensus_deepseek_r1_fresh/aime_2024_pass_consensus_deepseek_r1_fresh_20250512_140851/results.json\"))"
   ]
  }
 ],
 "metadata": {
  "kernelspec": {
   "display_name": "venv",
   "language": "python",
   "name": "python3"
  },
  "language_info": {
   "codemirror_mode": {
    "name": "ipython",
    "version": 3
   },
   "file_extension": ".py",
   "mimetype": "text/x-python",
   "name": "python",
   "nbconvert_exporter": "python",
   "pygments_lexer": "ipython3",
   "version": "3.11.6"
  }
 },
 "nbformat": 4,
 "nbformat_minor": 2
}
