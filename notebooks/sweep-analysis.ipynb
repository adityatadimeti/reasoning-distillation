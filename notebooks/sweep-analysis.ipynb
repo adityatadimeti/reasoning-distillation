{
 "cells": [
  {
   "cell_type": "code",
   "execution_count": 1,
   "metadata": {},
   "outputs": [],
   "source": [
    "import json\n",
    "\n",
    "# results = json.load(open(\"../results/aime_deepseek_qwen_14b_baseline_lastk_sum_4iter_seed_1/aime_deepseek_qwen_14b_baseline_lastk_sum_4iter_seed_1_20250514_161309/results.json\"))\n",
    "# results = json.load(open(\"../results/aime_deepseek_qwen_14b_summ_base_sum_4iter_seed_3/aime_deepseek_qwen_14b_summ_base_sum_4iter_seed_3_20250514_173254/results.json\"))\n",
    "# results = json.load(open(\"../results/aime_deepseek_qwen_14b_baseline_answer_only_sum_4iter_seed_2/aime_deepseek_qwen_14b_baseline_answer_only_sum_4iter_seed_2_20250516_044735/results.json\"))\n",
    "# results = json.load(open('../results/aime_deepseek_qwen_14b_baseline_post_think_sum_4iter_seed_0_fresh/aime_deepseek_qwen_14b_baseline_post_think_sum_4iter_seed_0_fresh_20250513_152018/merged_results_20250513_213753.json'))\n",
    "results = json.load(open('../results/aime_deepseek_qwen_14b_baseline_lastk_sum_4iter_seed_2/aime_deepseek_qwen_14b_baseline_lastk_sum_4iter_seed_2_20250513_121629/results.json'))\n",
    "# full_results = json.load(open(\"../results/aime_deepseek_qwen_14b_baseline_firstk_sum_4iter_seed_3/aime_deepseek_qwen_14b_baseline_firstk_sum_4iter_seed_3_20250513_225417/results.json\"))"
   ]
  },
  {
   "cell_type": "code",
   "execution_count": 11,
   "metadata": {},
   "outputs": [],
   "source": [
    "def q_ids(pids):\n",
    "    return \"--question_ids=\" + \",\".join(pids)"
   ]
  },
  {
   "cell_type": "code",
   "execution_count": 3,
   "metadata": {},
   "outputs": [
    {
     "name": "stdout",
     "output_type": "stream",
     "text": [
      "23\n"
     ]
    },
    {
     "data": {
      "text/plain": [
       "'--question_ids=14,16,5,28,9,19,18,29,2,20,24,15,11,22,17,27,21,23,10,26,13,12,25'"
      ]
     },
     "execution_count": 3,
     "metadata": {},
     "output_type": "execute_result"
    }
   ],
   "source": [
    "pids_done = [r['problem_id'] for r in results['results']]\n",
    "full_pids = [r['problem_id'] for r in full_results['results']]\n",
    "need2run = list(set(full_pids) - set(pids_done))\n",
    "print(len(need2run))\n",
    "q_ids(need2run)"
   ]
  },
  {
   "cell_type": "code",
   "execution_count": 9,
   "metadata": {},
   "outputs": [
    {
     "name": "stdout",
     "output_type": "stream",
     "text": [
      "25\n"
     ]
    }
   ],
   "source": [
    "initial_wrong = set()\n",
    "for res in results['results']:\n",
    "    if not res['iterations'][0]['correct']:\n",
    "        initial_wrong.add(res['problem_id'])\n",
    "print(len(initial_wrong))\n"
   ]
  },
  {
   "cell_type": "code",
   "execution_count": 12,
   "metadata": {},
   "outputs": [
    {
     "data": {
      "text/plain": [
       "'--question_ids=14,19,5,24,4,17,2024-I-11,2024-I-12,28,29,10,18,2024-II-3,2024-II-8,2024-I-8,12,9,20,25,11,7,27,2,2024-II-9,2024-II-15'"
      ]
     },
     "execution_count": 12,
     "metadata": {},
     "output_type": "execute_result"
    }
   ],
   "source": [
    "q_ids(initial_wrong)"
   ]
  }
 ],
 "metadata": {
  "kernelspec": {
   "display_name": "venv",
   "language": "python",
   "name": "python3"
  },
  "language_info": {
   "codemirror_mode": {
    "name": "ipython",
    "version": 3
   },
   "file_extension": ".py",
   "mimetype": "text/x-python",
   "name": "python",
   "nbconvert_exporter": "python",
   "pygments_lexer": "ipython3",
   "version": "3.11.6"
  }
 },
 "nbformat": 4,
 "nbformat_minor": 2
}
