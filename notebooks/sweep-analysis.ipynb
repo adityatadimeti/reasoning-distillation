{
 "cells": [
  {
   "cell_type": "code",
   "execution_count": 11,
   "metadata": {},
   "outputs": [],
   "source": [
    "import json\n",
    "\n",
    "# results = json.load(open(\"../results/aime_deepseek_qwen_14b_baseline_lastk_sum_4iter_seed_1/aime_deepseek_qwen_14b_baseline_lastk_sum_4iter_seed_1_20250514_161309/results.json\"))\n",
    "results = json.load(open(\"../results/aime_deepseek_qwen_14b_summ_base_sum_4iter_seed_3/aime_deepseek_qwen_14b_summ_base_sum_4iter_seed_3_20250514_173254/results.json\"))\n",
    "full_results = json.load(open(\"../results/aime_deepseek_qwen_14b_baseline_firstk_sum_4iter_seed_3/aime_deepseek_qwen_14b_baseline_firstk_sum_4iter_seed_3_20250513_225417/results.json\"))"
   ]
  },
  {
   "cell_type": "code",
   "execution_count": 12,
   "metadata": {},
   "outputs": [],
   "source": [
    "def q_ids(pids):\n",
    "    return \"--question_ids=\" + \",\".join(pids)"
   ]
  },
  {
   "cell_type": "code",
   "execution_count": 14,
   "metadata": {},
   "outputs": [
    {
     "name": "stdout",
     "output_type": "stream",
     "text": [
      "30\n"
     ]
    },
    {
     "data": {
      "text/plain": [
       "'--question_ids=9,4,10,24,20,26,29,11,13,23,22,6,2,16,25,8,14,5,28,27,2024-I-10,18,15,21,17,19,7,2024-I-5,2024-II-8,12'"
      ]
     },
     "execution_count": 14,
     "metadata": {},
     "output_type": "execute_result"
    }
   ],
   "source": [
    "pids_done = [r['problem_id'] for r in results['results']]\n",
    "full_pids = [r['problem_id'] for r in full_results['results']]\n",
    "need2run = list(set(full_pids) - set(pids_done))\n",
    "print(len(need2run))\n",
    "q_ids(need2run)"
   ]
  }
 ],
 "metadata": {
  "kernelspec": {
   "display_name": "venv",
   "language": "python",
   "name": "python3"
  },
  "language_info": {
   "codemirror_mode": {
    "name": "ipython",
    "version": 3
   },
   "file_extension": ".py",
   "mimetype": "text/x-python",
   "name": "python",
   "nbconvert_exporter": "python",
   "pygments_lexer": "ipython3",
   "version": "3.11.6"
  }
 },
 "nbformat": 4,
 "nbformat_minor": 2
}
