{
 "cells": [
  {
   "cell_type": "code",
   "execution_count": 1,
   "metadata": {},
   "outputs": [],
   "source": [
    "import json, random, pathlib, pandas as pd\n",
    "\n",
    "DATA = pathlib.Path('HARP.jsonl')\n",
    "records = [json.loads(l) for l in DATA.open()]"
   ]
  },
  {
   "cell_type": "code",
   "execution_count": 2,
   "metadata": {},
   "outputs": [
    {
     "name": "stdout",
     "output_type": "stream",
     "text": [
      "394\n"
     ]
    }
   ],
   "source": [
    "hard = [r for r in records if r[\"level\"] >= 5]\n",
    "print(len(hard))"
   ]
  },
  {
   "cell_type": "code",
   "execution_count": 10,
   "metadata": {},
   "outputs": [],
   "source": [
    "l6 = pd.read_csv('../data/harp_level6.csv')\n",
    "l6['answer'].tolist()"
   ]
  },
  {
   "cell_type": "code",
   "execution_count": 11,
   "metadata": {},
   "outputs": [
    {
     "data": {
      "text/html": [
       "<div>\n",
       "<style scoped>\n",
       "    .dataframe tbody tr th:only-of-type {\n",
       "        vertical-align: middle;\n",
       "    }\n",
       "\n",
       "    .dataframe tbody tr th {\n",
       "        vertical-align: top;\n",
       "    }\n",
       "\n",
       "    .dataframe thead th {\n",
       "        text-align: right;\n",
       "    }\n",
       "</style>\n",
       "<table border=\"1\" class=\"dataframe\">\n",
       "  <thead>\n",
       "    <tr style=\"text-align: right;\">\n",
       "      <th></th>\n",
       "      <th>id</th>\n",
       "      <th>question</th>\n",
       "      <th>solution</th>\n",
       "      <th>answer</th>\n",
       "    </tr>\n",
       "  </thead>\n",
       "  <tbody>\n",
       "    <tr>\n",
       "      <th>0</th>\n",
       "      <td>H6-001</td>\n",
       "      <td>For $\\{1, 2, 3, \\ldots, n\\}$ and each of its n...</td>\n",
       "      <td>Let $S$ be a non- empty subset of $\\{1,2,3,4,5...</td>\n",
       "      <td>$448$</td>\n",
       "    </tr>\n",
       "    <tr>\n",
       "      <th>1</th>\n",
       "      <td>H6-002</td>\n",
       "      <td>In the adjoining figure, two circles with radi...</td>\n",
       "      <td>Firstly, notice that if we reflect $R$ over $P...</td>\n",
       "      <td>$130$</td>\n",
       "    </tr>\n",
       "    <tr>\n",
       "      <th>2</th>\n",
       "      <td>H6-003</td>\n",
       "      <td>The adjoining figure shows two intersecting ch...</td>\n",
       "      <td>[asy] size(10cm); import olympiad; pair O = (0...</td>\n",
       "      <td>$175$</td>\n",
       "    </tr>\n",
       "    <tr>\n",
       "      <th>3</th>\n",
       "      <td>H6-004</td>\n",
       "      <td>Find the value of $10\\cot(\\cot^{-1}3+\\cot^{-1}...</td>\n",
       "      <td>We know that $\\tan(\\arctan(x)) = x$ so we can ...</td>\n",
       "      <td>$15$</td>\n",
       "    </tr>\n",
       "    <tr>\n",
       "      <th>4</th>\n",
       "      <td>H6-005</td>\n",
       "      <td>What is the largest even integer that cannot b...</td>\n",
       "      <td>Take an even positive integer $x$. $x$ is eith...</td>\n",
       "      <td>$38$</td>\n",
       "    </tr>\n",
       "    <tr>\n",
       "      <th>...</th>\n",
       "      <td>...</td>\n",
       "      <td>...</td>\n",
       "      <td>...</td>\n",
       "      <td>...</td>\n",
       "    </tr>\n",
       "    <tr>\n",
       "      <th>192</th>\n",
       "      <td>H6-193</td>\n",
       "      <td>Let $ABCD$ be a tetrahedron such that $AB=CD= ...</td>\n",
       "      <td>Notice that \\(41=4^2+5^2\\), \\(89=5^2+8^2\\), an...</td>\n",
       "      <td>$104$</td>\n",
       "    </tr>\n",
       "    <tr>\n",
       "      <th>193</th>\n",
       "      <td>H6-194</td>\n",
       "      <td>Let $\\mathcal{B}$ be the set of rectangular bo...</td>\n",
       "      <td>Observe that the \"worst\" possible box is one o...</td>\n",
       "      <td>$721$</td>\n",
       "    </tr>\n",
       "    <tr>\n",
       "      <th>194</th>\n",
       "      <td>H6-195</td>\n",
       "      <td>Let $\\omega\\neq 1$ be a 13th root of unity. Fi...</td>\n",
       "      <td>\\[\\prod_{k=0}^{12} \\left(2- 2\\omega^k + \\omega...</td>\n",
       "      <td>$321$</td>\n",
       "    </tr>\n",
       "    <tr>\n",
       "      <th>195</th>\n",
       "      <td>H6-196</td>\n",
       "      <td>Let \\(b\\ge 2\\) be an integer. Call a positive ...</td>\n",
       "      <td>We write the base-$b$ two-digit integer as $\\l...</td>\n",
       "      <td>$211$</td>\n",
       "    </tr>\n",
       "    <tr>\n",
       "      <th>196</th>\n",
       "      <td>H6-197</td>\n",
       "      <td>Find the number of rectangles that can be form...</td>\n",
       "      <td>There are two kinds of such rectangles: those ...</td>\n",
       "      <td>$315$</td>\n",
       "    </tr>\n",
       "  </tbody>\n",
       "</table>\n",
       "<p>197 rows × 4 columns</p>\n",
       "</div>"
      ],
      "text/plain": [
       "         id                                           question  \\\n",
       "0    H6-001  For $\\{1, 2, 3, \\ldots, n\\}$ and each of its n...   \n",
       "1    H6-002  In the adjoining figure, two circles with radi...   \n",
       "2    H6-003  The adjoining figure shows two intersecting ch...   \n",
       "3    H6-004  Find the value of $10\\cot(\\cot^{-1}3+\\cot^{-1}...   \n",
       "4    H6-005  What is the largest even integer that cannot b...   \n",
       "..      ...                                                ...   \n",
       "192  H6-193  Let $ABCD$ be a tetrahedron such that $AB=CD= ...   \n",
       "193  H6-194  Let $\\mathcal{B}$ be the set of rectangular bo...   \n",
       "194  H6-195  Let $\\omega\\neq 1$ be a 13th root of unity. Fi...   \n",
       "195  H6-196  Let \\(b\\ge 2\\) be an integer. Call a positive ...   \n",
       "196  H6-197  Find the number of rectangles that can be form...   \n",
       "\n",
       "                                              solution answer  \n",
       "0    Let $S$ be a non- empty subset of $\\{1,2,3,4,5...  $448$  \n",
       "1    Firstly, notice that if we reflect $R$ over $P...  $130$  \n",
       "2    [asy] size(10cm); import olympiad; pair O = (0...  $175$  \n",
       "3    We know that $\\tan(\\arctan(x)) = x$ so we can ...   $15$  \n",
       "4    Take an even positive integer $x$. $x$ is eith...   $38$  \n",
       "..                                                 ...    ...  \n",
       "192  Notice that \\(41=4^2+5^2\\), \\(89=5^2+8^2\\), an...  $104$  \n",
       "193  Observe that the \"worst\" possible box is one o...  $721$  \n",
       "194  \\[\\prod_{k=0}^{12} \\left(2- 2\\omega^k + \\omega...  $321$  \n",
       "195  We write the base-$b$ two-digit integer as $\\l...  $211$  \n",
       "196  There are two kinds of such rectangles: those ...  $315$  \n",
       "\n",
       "[197 rows x 4 columns]"
      ]
     },
     "execution_count": 11,
     "metadata": {},
     "output_type": "execute_result"
    }
   ],
   "source": [
    "l6"
   ]
  }
 ],
 "metadata": {
  "kernelspec": {
   "display_name": "Python 3",
   "language": "python",
   "name": "python3"
  },
  "language_info": {
   "codemirror_mode": {
    "name": "ipython",
    "version": 3
   },
   "file_extension": ".py",
   "mimetype": "text/x-python",
   "name": "python",
   "nbconvert_exporter": "python",
   "pygments_lexer": "ipython3",
   "version": "3.10.1"
  }
 },
 "nbformat": 4,
 "nbformat_minor": 2
}
