{
 "cells": [
  {
   "cell_type": "code",
   "execution_count": 3,
   "metadata": {},
   "outputs": [],
   "source": [
    "import json, random, pathlib, pandas as pd\n",
    "\n",
    "DATA = pathlib.Path('HARP.jsonl')\n",
    "records = [json.loads(l) for l in DATA.open()]"
   ]
  },
  {
   "cell_type": "code",
   "execution_count": 5,
   "metadata": {},
   "outputs": [
    {
     "data": {
      "text/html": [
       "<div>\n",
       "<style scoped>\n",
       "    .dataframe tbody tr th:only-of-type {\n",
       "        vertical-align: middle;\n",
       "    }\n",
       "\n",
       "    .dataframe tbody tr th {\n",
       "        vertical-align: top;\n",
       "    }\n",
       "\n",
       "    .dataframe thead th {\n",
       "        text-align: right;\n",
       "    }\n",
       "</style>\n",
       "<table border=\"1\" class=\"dataframe\">\n",
       "  <thead>\n",
       "    <tr style=\"text-align: right;\">\n",
       "      <th></th>\n",
       "      <th>year</th>\n",
       "      <th>contest</th>\n",
       "      <th>number</th>\n",
       "      <th>level</th>\n",
       "      <th>subject</th>\n",
       "      <th>multiple_choice_only</th>\n",
       "      <th>problem</th>\n",
       "      <th>answer</th>\n",
       "      <th>solution_1</th>\n",
       "      <th>num_solutions</th>\n",
       "      <th>...</th>\n",
       "      <th>solution_5</th>\n",
       "      <th>solution_6</th>\n",
       "      <th>solution_7</th>\n",
       "      <th>solution_8</th>\n",
       "      <th>solution_9</th>\n",
       "      <th>solution_10</th>\n",
       "      <th>solution_11</th>\n",
       "      <th>solution_12</th>\n",
       "      <th>solution_13</th>\n",
       "      <th>solution_14</th>\n",
       "    </tr>\n",
       "  </thead>\n",
       "  <tbody>\n",
       "    <tr>\n",
       "      <th>0</th>\n",
       "      <td>1950</td>\n",
       "      <td>AHSME</td>\n",
       "      <td>1</td>\n",
       "      <td>2</td>\n",
       "      <td>prealgebra</td>\n",
       "      <td>False</td>\n",
       "      <td>If $64$ is divided into three parts proportion...</td>\n",
       "      <td>$10\\frac{2}{3}$</td>\n",
       "      <td>If the three numbers are in proportion to $2:4...</td>\n",
       "      <td>1</td>\n",
       "      <td>...</td>\n",
       "      <td>NaN</td>\n",
       "      <td>NaN</td>\n",
       "      <td>NaN</td>\n",
       "      <td>NaN</td>\n",
       "      <td>NaN</td>\n",
       "      <td>NaN</td>\n",
       "      <td>NaN</td>\n",
       "      <td>NaN</td>\n",
       "      <td>NaN</td>\n",
       "      <td>NaN</td>\n",
       "    </tr>\n",
       "    <tr>\n",
       "      <th>1</th>\n",
       "      <td>1950</td>\n",
       "      <td>AHSME</td>\n",
       "      <td>2</td>\n",
       "      <td>2</td>\n",
       "      <td>algebra</td>\n",
       "      <td>False</td>\n",
       "      <td>Let $R=gS-4$. When $S=8$, $R=16$. When $S=10$,...</td>\n",
       "      <td>$21$</td>\n",
       "      <td>Our first procedure is to find the value of $g...</td>\n",
       "      <td>1</td>\n",
       "      <td>...</td>\n",
       "      <td>NaN</td>\n",
       "      <td>NaN</td>\n",
       "      <td>NaN</td>\n",
       "      <td>NaN</td>\n",
       "      <td>NaN</td>\n",
       "      <td>NaN</td>\n",
       "      <td>NaN</td>\n",
       "      <td>NaN</td>\n",
       "      <td>NaN</td>\n",
       "      <td>NaN</td>\n",
       "    </tr>\n",
       "    <tr>\n",
       "      <th>2</th>\n",
       "      <td>1950</td>\n",
       "      <td>AHSME</td>\n",
       "      <td>4</td>\n",
       "      <td>2</td>\n",
       "      <td>prealgebra</td>\n",
       "      <td>False</td>\n",
       "      <td>Reduced to lowest terms, $\\frac{a^{2}-b^{2}}{a...</td>\n",
       "      <td>$\\frac{a}{b}$</td>\n",
       "      <td>We start off by factoring the second fraction....</td>\n",
       "      <td>1</td>\n",
       "      <td>...</td>\n",
       "      <td>NaN</td>\n",
       "      <td>NaN</td>\n",
       "      <td>NaN</td>\n",
       "      <td>NaN</td>\n",
       "      <td>NaN</td>\n",
       "      <td>NaN</td>\n",
       "      <td>NaN</td>\n",
       "      <td>NaN</td>\n",
       "      <td>NaN</td>\n",
       "      <td>NaN</td>\n",
       "    </tr>\n",
       "    <tr>\n",
       "      <th>3</th>\n",
       "      <td>1950</td>\n",
       "      <td>AHSME</td>\n",
       "      <td>5</td>\n",
       "      <td>2</td>\n",
       "      <td>algebra</td>\n",
       "      <td>False</td>\n",
       "      <td>If five geometric means are inserted between $...</td>\n",
       "      <td>$648$</td>\n",
       "      <td>We can let the common ratio of the geometric s...</td>\n",
       "      <td>1</td>\n",
       "      <td>...</td>\n",
       "      <td>NaN</td>\n",
       "      <td>NaN</td>\n",
       "      <td>NaN</td>\n",
       "      <td>NaN</td>\n",
       "      <td>NaN</td>\n",
       "      <td>NaN</td>\n",
       "      <td>NaN</td>\n",
       "      <td>NaN</td>\n",
       "      <td>NaN</td>\n",
       "      <td>NaN</td>\n",
       "    </tr>\n",
       "    <tr>\n",
       "      <th>4</th>\n",
       "      <td>1950</td>\n",
       "      <td>AHSME</td>\n",
       "      <td>6</td>\n",
       "      <td>2</td>\n",
       "      <td>algebra</td>\n",
       "      <td>False</td>\n",
       "      <td>The values of $y$ which will satisfy the equat...</td>\n",
       "      <td>$y^{2}+10y-7=0$</td>\n",
       "      <td>If we solve the second equation for $x$ in ter...</td>\n",
       "      <td>1</td>\n",
       "      <td>...</td>\n",
       "      <td>NaN</td>\n",
       "      <td>NaN</td>\n",
       "      <td>NaN</td>\n",
       "      <td>NaN</td>\n",
       "      <td>NaN</td>\n",
       "      <td>NaN</td>\n",
       "      <td>NaN</td>\n",
       "      <td>NaN</td>\n",
       "      <td>NaN</td>\n",
       "      <td>NaN</td>\n",
       "    </tr>\n",
       "  </tbody>\n",
       "</table>\n",
       "<p>5 rows × 23 columns</p>\n",
       "</div>"
      ],
      "text/plain": [
       "   year contest  number  level     subject  multiple_choice_only  \\\n",
       "0  1950   AHSME       1      2  prealgebra                 False   \n",
       "1  1950   AHSME       2      2     algebra                 False   \n",
       "2  1950   AHSME       4      2  prealgebra                 False   \n",
       "3  1950   AHSME       5      2     algebra                 False   \n",
       "4  1950   AHSME       6      2     algebra                 False   \n",
       "\n",
       "                                             problem           answer  \\\n",
       "0  If $64$ is divided into three parts proportion...  $10\\frac{2}{3}$   \n",
       "1  Let $R=gS-4$. When $S=8$, $R=16$. When $S=10$,...             $21$   \n",
       "2  Reduced to lowest terms, $\\frac{a^{2}-b^{2}}{a...    $\\frac{a}{b}$   \n",
       "3  If five geometric means are inserted between $...            $648$   \n",
       "4  The values of $y$ which will satisfy the equat...  $y^{2}+10y-7=0$   \n",
       "\n",
       "                                          solution_1  num_solutions  ...  \\\n",
       "0  If the three numbers are in proportion to $2:4...              1  ...   \n",
       "1  Our first procedure is to find the value of $g...              1  ...   \n",
       "2  We start off by factoring the second fraction....              1  ...   \n",
       "3  We can let the common ratio of the geometric s...              1  ...   \n",
       "4  If we solve the second equation for $x$ in ter...              1  ...   \n",
       "\n",
       "  solution_5 solution_6 solution_7 solution_8 solution_9 solution_10  \\\n",
       "0        NaN        NaN        NaN        NaN        NaN         NaN   \n",
       "1        NaN        NaN        NaN        NaN        NaN         NaN   \n",
       "2        NaN        NaN        NaN        NaN        NaN         NaN   \n",
       "3        NaN        NaN        NaN        NaN        NaN         NaN   \n",
       "4        NaN        NaN        NaN        NaN        NaN         NaN   \n",
       "\n",
       "  solution_11 solution_12 solution_13 solution_14  \n",
       "0         NaN         NaN         NaN         NaN  \n",
       "1         NaN         NaN         NaN         NaN  \n",
       "2         NaN         NaN         NaN         NaN  \n",
       "3         NaN         NaN         NaN         NaN  \n",
       "4         NaN         NaN         NaN         NaN  \n",
       "\n",
       "[5 rows x 23 columns]"
      ]
     },
     "execution_count": 5,
     "metadata": {},
     "output_type": "execute_result"
    }
   ],
   "source": [
    "# Convert records list to pandas DataFrame\n",
    "df = pd.DataFrame(records)\n",
    "df.head()"
   ]
  },
  {
   "cell_type": "code",
   "execution_count": 8,
   "metadata": {},
   "outputs": [
    {
     "data": {
      "text/plain": [
       "Index(['year', 'contest', 'number', 'level', 'subject', 'multiple_choice_only',\n",
       "       'problem', 'answer', 'solution_1', 'num_solutions', 'solution_2',\n",
       "       'solution_3', 'solution_4', 'solution_5', 'solution_6', 'solution_7',\n",
       "       'solution_8', 'solution_9', 'solution_10', 'solution_11', 'solution_12',\n",
       "       'solution_13', 'solution_14'],\n",
       "      dtype='object')"
      ]
     },
     "execution_count": 8,
     "metadata": {},
     "output_type": "execute_result"
    }
   ],
   "source": [
    "l6_df = df[df['level'] == 6]\n",
    "l6_df.columns"
   ]
  },
  {
   "cell_type": "code",
   "execution_count": 9,
   "metadata": {},
   "outputs": [
    {
     "data": {
      "text/plain": [
       "contest\n",
       "AIME_I     75\n",
       "AIME_II    72\n",
       "AIME       50\n",
       "Name: count, dtype: int64"
      ]
     },
     "execution_count": 9,
     "metadata": {},
     "output_type": "execute_result"
    }
   ],
   "source": [
    "l6_df['contest'].value_counts()"
   ]
  },
  {
   "cell_type": "code",
   "execution_count": 17,
   "metadata": {},
   "outputs": [
    {
     "data": {
      "text/plain": [
       "year\n",
       "2004    6\n",
       "2014    6\n",
       "2006    6\n",
       "2007    6\n",
       "2008    6\n",
       "2009    6\n",
       "2010    6\n",
       "2011    6\n",
       "2012    6\n",
       "2015    6\n",
       "2003    6\n",
       "2016    6\n",
       "2017    6\n",
       "2018    6\n",
       "2019    6\n",
       "2020    6\n",
       "2021    6\n",
       "2023    6\n",
       "2005    6\n",
       "2024    6\n",
       "2002    6\n",
       "2001    6\n",
       "2000    5\n",
       "2022    5\n",
       "2013    5\n",
       "1991    3\n",
       "1985    3\n",
       "1986    3\n",
       "1987    3\n",
       "1988    3\n",
       "1989    3\n",
       "1990    3\n",
       "1993    3\n",
       "1992    3\n",
       "1984    3\n",
       "1994    3\n",
       "1995    3\n",
       "1996    3\n",
       "1998    3\n",
       "1999    3\n",
       "1983    3\n",
       "1997    2\n",
       "Name: count, dtype: int64"
      ]
     },
     "execution_count": 17,
     "metadata": {},
     "output_type": "execute_result"
    }
   ],
   "source": [
    "l6_df['year'].value_counts()"
   ]
  },
  {
   "cell_type": "code",
   "execution_count": 16,
   "metadata": {},
   "outputs": [
    {
     "data": {
      "image/png": "[encoded data removed]",
      "text/plain": [
       "<Figure size 1000x600 with 1 Axes>"
      ]
     },
     "metadata": {},
     "output_type": "display_data"
    }
   ],
   "source": [
    "import matplotlib.pyplot as plt\n",
    "\n",
    "# Create histogram of years\n",
    "plt.figure(figsize=(10, 6))\n",
    "l6_df['year'].hist(bins=30, edgecolor='black')\n",
    "plt.title('Distribution of Level 6 Problems by Year')\n",
    "plt.xlabel('Year')\n",
    "plt.ylabel('Number of Problems')\n",
    "plt.grid(True, alpha=0.3)\n",
    "plt.xticks(rotation=45)\n",
    "plt.tight_layout()  # Adjust layout to prevent label cutoff"
   ]
  },
  {
   "cell_type": "code",
   "execution_count": 10,
   "metadata": {},
   "outputs": [
    {
     "data": {
      "text/plain": [
       "contest\n",
       "AIME_II    75\n",
       "AIME_I     74\n",
       "AIME       48\n",
       "Name: count, dtype: int64"
      ]
     },
     "execution_count": 10,
     "metadata": {},
     "output_type": "execute_result"
    }
   ],
   "source": [
    "l5_df = df[df['level'] == 5]\n",
    "l5_df['contest'].value_counts()"
   ]
  },
  {
   "cell_type": "code",
   "execution_count": 11,
   "metadata": {},
   "outputs": [
    {
     "data": {
      "text/plain": [
       "contest\n",
       "AHSME      1271\n",
       "AMC_8       569\n",
       "AMC_12B     484\n",
       "AMC_12A     471\n",
       "AIME_I      373\n",
       "AIME_II     368\n",
       "AMC_10B     335\n",
       "AMC_10A     318\n",
       "AJHSME      287\n",
       "AIME        242\n",
       "AMC_12       38\n",
       "AMC_10       24\n",
       "Name: count, dtype: int64"
      ]
     },
     "execution_count": 11,
     "metadata": {},
     "output_type": "execute_result"
    }
   ],
   "source": [
    "df['contest'].value_counts()"
   ]
  },
  {
   "cell_type": "code",
   "execution_count": 3,
   "metadata": {},
   "outputs": [
    {
     "name": "stdout",
     "output_type": "stream",
     "text": [
      "394\n"
     ]
    }
   ],
   "source": [
    "hard = [r for r in records if r[\"level\"] >= 5]\n",
    "print(len(hard))"
   ]
  },
  {
   "cell_type": "code",
   "execution_count": 2,
   "metadata": {},
   "outputs": [
    {
     "data": {
      "text/html": [
       "<div>\n",
       "<style scoped>\n",
       "    .dataframe tbody tr th:only-of-type {\n",
       "        vertical-align: middle;\n",
       "    }\n",
       "\n",
       "    .dataframe tbody tr th {\n",
       "        vertical-align: top;\n",
       "    }\n",
       "\n",
       "    .dataframe thead th {\n",
       "        text-align: right;\n",
       "    }\n",
       "</style>\n",
       "<table border=\"1\" class=\"dataframe\">\n",
       "  <thead>\n",
       "    <tr style=\"text-align: right;\">\n",
       "      <th></th>\n",
       "      <th>id</th>\n",
       "      <th>question</th>\n",
       "      <th>solution</th>\n",
       "      <th>answer</th>\n",
       "    </tr>\n",
       "  </thead>\n",
       "  <tbody>\n",
       "    <tr>\n",
       "      <th>0</th>\n",
       "      <td>H6-001</td>\n",
       "      <td>For $\\{1, 2, 3, \\ldots, n\\}$ and each of its n...</td>\n",
       "      <td>Let $S$ be a non- empty subset of $\\{1,2,3,4,5...</td>\n",
       "      <td>$448$</td>\n",
       "    </tr>\n",
       "    <tr>\n",
       "      <th>1</th>\n",
       "      <td>H6-002</td>\n",
       "      <td>In the adjoining figure, two circles with radi...</td>\n",
       "      <td>Firstly, notice that if we reflect $R$ over $P...</td>\n",
       "      <td>$130$</td>\n",
       "    </tr>\n",
       "    <tr>\n",
       "      <th>2</th>\n",
       "      <td>H6-003</td>\n",
       "      <td>The adjoining figure shows two intersecting ch...</td>\n",
       "      <td>[asy] size(10cm); import olympiad; pair O = (0...</td>\n",
       "      <td>$175$</td>\n",
       "    </tr>\n",
       "    <tr>\n",
       "      <th>3</th>\n",
       "      <td>H6-004</td>\n",
       "      <td>Find the value of $10\\cot(\\cot^{-1}3+\\cot^{-1}...</td>\n",
       "      <td>We know that $\\tan(\\arctan(x)) = x$ so we can ...</td>\n",
       "      <td>$15$</td>\n",
       "    </tr>\n",
       "    <tr>\n",
       "      <th>4</th>\n",
       "      <td>H6-005</td>\n",
       "      <td>What is the largest even integer that cannot b...</td>\n",
       "      <td>Take an even positive integer $x$. $x$ is eith...</td>\n",
       "      <td>$38$</td>\n",
       "    </tr>\n",
       "    <tr>\n",
       "      <th>...</th>\n",
       "      <td>...</td>\n",
       "      <td>...</td>\n",
       "      <td>...</td>\n",
       "      <td>...</td>\n",
       "    </tr>\n",
       "    <tr>\n",
       "      <th>192</th>\n",
       "      <td>H6-193</td>\n",
       "      <td>Let $ABCD$ be a tetrahedron such that $AB=CD= ...</td>\n",
       "      <td>Notice that \\(41=4^2+5^2\\), \\(89=5^2+8^2\\), an...</td>\n",
       "      <td>$104$</td>\n",
       "    </tr>\n",
       "    <tr>\n",
       "      <th>193</th>\n",
       "      <td>H6-194</td>\n",
       "      <td>Let $\\mathcal{B}$ be the set of rectangular bo...</td>\n",
       "      <td>Observe that the \"worst\" possible box is one o...</td>\n",
       "      <td>$721$</td>\n",
       "    </tr>\n",
       "    <tr>\n",
       "      <th>194</th>\n",
       "      <td>H6-195</td>\n",
       "      <td>Let $\\omega\\neq 1$ be a 13th root of unity. Fi...</td>\n",
       "      <td>\\[\\prod_{k=0}^{12} \\left(2- 2\\omega^k + \\omega...</td>\n",
       "      <td>$321$</td>\n",
       "    </tr>\n",
       "    <tr>\n",
       "      <th>195</th>\n",
       "      <td>H6-196</td>\n",
       "      <td>Let \\(b\\ge 2\\) be an integer. Call a positive ...</td>\n",
       "      <td>We write the base-$b$ two-digit integer as $\\l...</td>\n",
       "      <td>$211$</td>\n",
       "    </tr>\n",
       "    <tr>\n",
       "      <th>196</th>\n",
       "      <td>H6-197</td>\n",
       "      <td>Find the number of rectangles that can be form...</td>\n",
       "      <td>There are two kinds of such rectangles: those ...</td>\n",
       "      <td>$315$</td>\n",
       "    </tr>\n",
       "  </tbody>\n",
       "</table>\n",
       "<p>197 rows × 4 columns</p>\n",
       "</div>"
      ],
      "text/plain": [
       "         id                                           question  \\\n",
       "0    H6-001  For $\\{1, 2, 3, \\ldots, n\\}$ and each of its n...   \n",
       "1    H6-002  In the adjoining figure, two circles with radi...   \n",
       "2    H6-003  The adjoining figure shows two intersecting ch...   \n",
       "3    H6-004  Find the value of $10\\cot(\\cot^{-1}3+\\cot^{-1}...   \n",
       "4    H6-005  What is the largest even integer that cannot b...   \n",
       "..      ...                                                ...   \n",
       "192  H6-193  Let $ABCD$ be a tetrahedron such that $AB=CD= ...   \n",
       "193  H6-194  Let $\\mathcal{B}$ be the set of rectangular bo...   \n",
       "194  H6-195  Let $\\omega\\neq 1$ be a 13th root of unity. Fi...   \n",
       "195  H6-196  Let \\(b\\ge 2\\) be an integer. Call a positive ...   \n",
       "196  H6-197  Find the number of rectangles that can be form...   \n",
       "\n",
       "                                              solution answer  \n",
       "0    Let $S$ be a non- empty subset of $\\{1,2,3,4,5...  $448$  \n",
       "1    Firstly, notice that if we reflect $R$ over $P...  $130$  \n",
       "2    [asy] size(10cm); import olympiad; pair O = (0...  $175$  \n",
       "3    We know that $\\tan(\\arctan(x)) = x$ so we can ...   $15$  \n",
       "4    Take an even positive integer $x$. $x$ is eith...   $38$  \n",
       "..                                                 ...    ...  \n",
       "192  Notice that \\(41=4^2+5^2\\), \\(89=5^2+8^2\\), an...  $104$  \n",
       "193  Observe that the \"worst\" possible box is one o...  $721$  \n",
       "194  \\[\\prod_{k=0}^{12} \\left(2- 2\\omega^k + \\omega...  $321$  \n",
       "195  We write the base-$b$ two-digit integer as $\\l...  $211$  \n",
       "196  There are two kinds of such rectangles: those ...  $315$  \n",
       "\n",
       "[197 rows x 4 columns]"
      ]
     },
     "execution_count": 2,
     "metadata": {},
     "output_type": "execute_result"
    }
   ],
   "source": [
    "import pandas as pd\n",
    "\n",
    "l6 = pd.read_csv('../data/harp_level6.csv')\n",
    "\n",
    "l6"
   ]
  },
  {
   "cell_type": "code",
   "execution_count": null,
   "metadata": {},
   "outputs": [],
   "source": [
    "l6['']"
   ]
  }
 ],
 "metadata": {
  "kernelspec": {
   "display_name": "venv",
   "language": "python",
   "name": "python3"
  },
  "language_info": {
   "codemirror_mode": {
    "name": "ipython",
    "version": 3
   },
   "file_extension": ".py",
   "mimetype": "text/x-python",
   "name": "python",
   "nbconvert_exporter": "python",
   "pygments_lexer": "ipython3",
   "version": "3.11.6"
  }
 },
 "nbformat": 4,
 "nbformat_minor": 2
}
