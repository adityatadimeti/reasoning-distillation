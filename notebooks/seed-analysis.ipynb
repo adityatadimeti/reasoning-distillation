{
 "cells": [
  {
   "cell_type": "code",
   "execution_count": 5,
   "metadata": {},
   "outputs": [],
   "source": [
    "import json\n",
    "# seed_0_results = json.load(open(\"../\"))\n",
    "seed_1_results = json.load(open(\"../results/aime_deepseek_qwen_14b_summ_base_sum_4iter_backtracking_seed_1/aime_deepseek_qwen_14b_summ_base_sum_4iter_backtracking_seed_1_20250512_202741/results.json\"))\n",
    "seed_2_results = json.load(open(\"../results/aime_deepseek_qwen_14b_summ_base_sum_4iter_backtracking_seed_2/aime_deepseek_qwen_14b_summ_base_sum_4iter_backtracking_seed_2_20250513_002335/results.json\"))"
   ]
  },
  {
   "cell_type": "code",
   "execution_count": 2,
   "metadata": {},
   "outputs": [],
   "source": [
    "def q_ids(pids):\n",
    "    return \"--question_ids=\" + \",\".join(pids)"
   ]
  },
  {
   "cell_type": "code",
   "execution_count": null,
   "metadata": {},
   "outputs": [],
   "source": [
    "orig_results_cleaned = []\n",
    "for result in orig_results['results']:\n",
    "    if result['problem_id'] not in reran_pids:\n",
    "        orig_results_cleaned.append(result)"
   ]
  },
  {
   "cell_type": "code",
   "execution_count": 8,
   "metadata": {},
   "outputs": [
    {
     "data": {
      "text/plain": [
       "'--question_ids=27,24,29'"
      ]
     },
     "execution_count": 8,
     "metadata": {},
     "output_type": "execute_result"
    }
   ],
   "source": [
    "# seed_0_pids = {result['problem_id'] for result in seed_0_results['results']}\n",
    "seed_1_pids = {result['problem_id'] for result in seed_1_results['results']}\n",
    "seed_2_pids = {result['problem_id'] for result in seed_2_results['results']}\n",
    "\n",
    "q_ids(seed_2_pids - seed_1_pids)\n"
   ]
  }
 ],
 "metadata": {
  "kernelspec": {
   "display_name": "venv",
   "language": "python",
   "name": "python3"
  },
  "language_info": {
   "codemirror_mode": {
    "name": "ipython",
    "version": 3
   },
   "file_extension": ".py",
   "mimetype": "text/x-python",
   "name": "python",
   "nbconvert_exporter": "python",
   "pygments_lexer": "ipython3",
   "version": "3.11.6"
  }
 },
 "nbformat": 4,
 "nbformat_minor": 2
}
