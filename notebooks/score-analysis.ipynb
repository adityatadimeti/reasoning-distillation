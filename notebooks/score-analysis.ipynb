{
 "cells": [
  {
   "cell_type": "code",
   "execution_count": 2,
   "metadata": {},
   "outputs": [],
   "source": [
    "import json\n",
    "# base_summ_results = json.load(open('../results/aime_deepseek_qwen_14b_summ_base_sum_4iter_fresh/aime_deepseek_qwen_14b_summ_base_sum_4iter_fresh_20250508_171556/results.json'))\n",
    "# base_summ_results = base_summ_results['results']\n",
    "# results = json.load(open('../results/aime_deepseek_qwen_14b_baseline_lastk_sum_4iter_fresh/aime_deepseek_qwen_14b_baseline_lastk_sum_4iter_fresh_20250508_223119/results.json'))\n",
    "# results = json.load(open('../results/aime_deepseek_qwen_14b_baseline_firstk_sum_4iter_fresh/aime_deepseek_qwen_14b_baseline_firstk_sum_4iter_fresh_20250508_222723/results.json'))\n",
    "# results = json.load(open('../results/aime_deepseek_qwen_14b_baseline_randomk_sum_4iter_fresh/aime_deepseek_qwen_14b_baseline_randomk_sum_4iter_fresh_20250508_234522/results.json'))\n",
    "# results = json.load(open('../results/aime_deepseek_qwen_14b_baseline_answer_only_sum_4iter/aime_deepseek_qwen_14b_baseline_answer_only_sum_4iter_20250509_142151/results.json'))\n",
    "# results = json.load(open('../results/aime_deepseek_qwen_14b_try_diff_summ_base_sum_4iter_fresh/aime_deepseek_qwen_14b_try_diff_summ_base_sum_4iter_fresh_20250509_125420/results.json'))\n",
    "# results = json.load(open('../results/aime_deepseek_qwen_14b_chunk_test_sum_4iter/aime_deepseek_qwen_14b_chunk_test_sum_4iter_20250509_113937/results.json'))\n",
    "# results = json.load(open('../results/aime_deepseek_qwen_14b_chunk_500_sum_4iter/aime_deepseek_qwen_14b_chunk_500_sum_4iter_20250510_214240/results.json'))\n",
    "# results = json.load(open('../results/aime_deepseek_qwen_14b_chunk_test_sum_4iter/aime_deepseek_qwen_14b_chunk_test_sum_4iter_20250509_142921/results.json'))\n",
    "# results = json.load(open('../results/aime_deepseek_qwen_14b_summ_base_sum_4iter_backtracking/aime_deepseek_qwen_14b_summ_base_sum_4iter_backtracking_20250512_143909/results.json'))\n",
    "# results = json.load(open('../results/aime_deepseek_qwen_14b_summ_base_sum_4iter_backtracking_seed_2/aime_deepseek_qwen_14b_summ_base_sum_4iter_backtracking_seed_2_20250513_002335/results.json'))\n",
    "# results = json.load(open('../results/aime_deepseek_qwen_14b_baseline_lastk_sum_4iter_seed_2/aime_deepseek_qwen_14b_baseline_lastk_sum_4iter_seed_2_20250513_121629/results.json'))\n",
    "results = json.load(open('../results/aime_deepseek_qwen_14b_summ_base_sum_4iter_backtracking_seed_2/aime_deepseek_qwen_14b_summ_base_sum_4iter_backtracking_seed_2_20250513_110758/results.json'))\n",
    "results = results['results']"
   ]
  },
  {
   "cell_type": "code",
   "execution_count": 3,
   "metadata": {},
   "outputs": [],
   "source": [
    "def compare_initial_final_correct(results):\n",
    "    total_initial_correct = 0\n",
    "    total_final_correct = 0\n",
    "\n",
    "    for res in results:\n",
    "        initial_correct = res['iterations'][0]['correct']\n",
    "        final_correct = res['iterations'][-1]['correct']\n",
    "        if initial_correct:\n",
    "            total_initial_correct += 1\n",
    "        if final_correct:\n",
    "            total_final_correct += 1\n",
    "\n",
    "    print(f\"Total problems: {len(results)}\")\n",
    "    print(f\"Initial correct: {total_initial_correct}\")\n",
    "    print(f\"Initial Accuracy: {total_initial_correct / len(results)}\")\n",
    "    print(f\"Final correct: {total_final_correct}\")\n",
    "    print(f\"Final Accuracy: {total_final_correct / len(results)}\")\n"
   ]
  },
  {
   "cell_type": "code",
   "execution_count": 4,
   "metadata": {},
   "outputs": [
    {
     "name": "stdout",
     "output_type": "stream",
     "text": [
      "Total problems: 60\n",
      "Initial correct: 42\n",
      "Initial Accuracy: 0.7\n",
      "Final correct: 48\n",
      "Final Accuracy: 0.8\n"
     ]
    }
   ],
   "source": [
    "compare_initial_final_correct(results)"
   ]
  },
  {
   "cell_type": "markdown",
   "metadata": {},
   "source": [
    "AIME 2024 vs 2025"
   ]
  },
  {
   "cell_type": "code",
   "execution_count": 5,
   "metadata": {},
   "outputs": [],
   "source": [
    "base_summ_results_2024 = [res for res in results if res['problem_id'].startswith('2024')]\n",
    "\n",
    "def split_into_2024_2025(results):\n",
    "    results_2024 = [res for res in results if res['problem_id'].startswith('2024')]\n",
    "    results_2025 = [res for res in results if not res['problem_id'].startswith('2024')]\n",
    "    return results_2024, results_2025\n",
    "\n",
    "results_2024, results_2025 = split_into_2024_2025(results)"
   ]
  },
  {
   "cell_type": "code",
   "execution_count": 6,
   "metadata": {},
   "outputs": [
    {
     "name": "stdout",
     "output_type": "stream",
     "text": [
      "Results 2024\n",
      "Total problems: 30\n",
      "Initial correct: 23\n",
      "Initial Accuracy: 0.7666666666666667\n",
      "Final correct: 25\n",
      "Final Accuracy: 0.8333333333333334\n",
      "\n",
      "Results 2025\n",
      "Total problems: 30\n",
      "Initial correct: 19\n",
      "Initial Accuracy: 0.6333333333333333\n",
      "Final correct: 23\n",
      "Final Accuracy: 0.7666666666666667\n",
      "\n",
      "Combined Results\n",
      "Total problems: 60\n",
      "Initial correct: 42\n",
      "Initial Accuracy: 0.7\n",
      "Final correct: 48\n",
      "Final Accuracy: 0.8\n"
     ]
    }
   ],
   "source": [
    "print(\"Results 2024\")\n",
    "compare_initial_final_correct(results_2024)\n",
    "print(\"\\nResults 2025\")\n",
    "compare_initial_final_correct(results_2025)\n",
    "print(\"\\nCombined Results\")\n",
    "compare_initial_final_correct(results)\n"
   ]
  }
 ],
 "metadata": {
  "kernelspec": {
   "display_name": "venv",
   "language": "python",
   "name": "python3"
  },
  "language_info": {
   "codemirror_mode": {
    "name": "ipython",
    "version": 3
   },
   "file_extension": ".py",
   "mimetype": "text/x-python",
   "name": "python",
   "nbconvert_exporter": "python",
   "pygments_lexer": "ipython3",
   "version": "3.11.6"
  }
 },
 "nbformat": 4,
 "nbformat_minor": 2
}
