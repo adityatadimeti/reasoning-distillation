{
 "cells": [
  {
   "cell_type": "code",
   "execution_count": 1,
   "metadata": {},
   "outputs": [],
   "source": [
    "import json\n",
    "# base_summ_results = json.load(open('../results/aime_deepseek_qwen_14b_summ_base_sum_4iter_fresh/aime_deepseek_qwen_14b_summ_base_sum_4iter_fresh_20250508_171556/results.json'))\n",
    "# base_summ_results = base_summ_results['results']\n",
    "# results = json.load(open('../results/aime_deepseek_qwen_14b_baseline_lastk_sum_4iter_fresh/aime_deepseek_qwen_14b_baseline_lastk_sum_4iter_fresh_20250508_223119/results.json'))\n",
    "# results = json.load(open('../results/aime_deepseek_qwen_14b_baseline_firstk_sum_4iter_fresh/aime_deepseek_qwen_14b_baseline_firstk_sum_4iter_fresh_20250508_222723/results.json'))\n",
    "# results = json.load(open('../results/aime_deepseek_qwen_14b_baseline_randomk_sum_4iter_fresh/aime_deepseek_qwen_14b_baseline_randomk_sum_4iter_fresh_20250508_234522/results.json'))\n",
    "# results = json.load(open('../results/aime_deepseek_qwen_14b_baseline_answer_only_sum_4iter/aime_deepseek_qwen_14b_baseline_answer_only_sum_4iter_20250509_142151/results.json'))\n",
    "# results = json.load(open('../results/aime_deepseek_qwen_14b_try_diff_summ_base_sum_4iter_fresh/aime_deepseek_qwen_14b_try_diff_summ_base_sum_4iter_fresh_20250509_125420/results.json'))\n",
    "# results = json.load(open('../results/aime_deepseek_qwen_14b_chunk_test_sum_4iter/aime_deepseek_qwen_14b_chunk_test_sum_4iter_20250509_113937/results.json'))\n",
    "# results = json.load(open('../results/aime_deepseek_qwen_14b_chunk_500_sum_4iter/aime_deepseek_qwen_14b_chunk_500_sum_4iter_20250510_214240/results.json'))\n",
    "# results = json.load(open('../results/aime_deepseek_qwen_14b_chunk_test_sum_4iter/aime_deepseek_qwen_14b_chunk_test_sum_4iter_20250509_142921/results.json'))\n",
    "# results = json.load(open('../results/aime_deepseek_qwen_14b_summ_base_sum_4iter_backtracking/aime_deepseek_qwen_14b_summ_base_sum_4iter_backtracking_20250512_143909/results.json'))\n",
    "# results = json.load(open('../results/aime_deepseek_qwen_14b_summ_base_sum_4iter_backtracking_seed_2/aime_deepseek_qwen_14b_summ_base_sum_4iter_backtracking_seed_2_20250513_002335/results.json'))\n",
    "# results = json.load(open('../results/aime_deepseek_qwen_14b_baseline_lastk_sum_4iter_seed_2/aime_deepseek_qwen_14b_baseline_lastk_sum_4iter_seed_2_20250513_121629/results.json'))\n",
    "# results = json.load(open('../results/aime_deepseek_qwen_14b_summ_base_sum_4iter_backtracking_seed_2/aime_deepseek_qwen_14b_summ_base_sum_4iter_backtracking_seed_2_20250513_110758/results.json'))\n",
    "# results = json.load(open('../results/aime_deepseek_qwen_14b_summ_base_sum_4iter_backtracking_seed_1/aime_deepseek_qwen_14b_summ_base_sum_4iter_backtracking_seed_1_20250512_202741/merged_results_20250513_152912.json'))\n",
    "# results = json.load(open('../results/backtracking_pay_attention_summary_first_results.json'))\n",
    "# results = json.load(open('../results/replay_chunk_summaries_pay_attention_summary_first_results.json'))\n",
    "results = json.load(open('../results/aime_deepseek_qwen_14b_baseline_post_think_sum_4iter_seed_0_fresh/aime_deepseek_qwen_14b_baseline_post_think_sum_4iter_seed_0_fresh_20250513_152018/merged_results_20250513_213753.json'))\n",
    "# results = json.load(open('../results/aime_deepseek_qwen_14b_baseline_firstk_sum_4iter_seed_2/aime_deepseek_qwen_14b_baseline_firstk_sum_4iter_seed_2_20250514_180600/results.json'))\n",
    "# results = json.load(open('../results/aime_deepseek_qwen_14b_baseline_lastk_sum_4iter_seed_1/aime_deepseek_qwen_14b_baseline_lastk_sum_4iter_seed_1_20250514_161309/merged_results_20250515_011921.json'))\n",
    "# results = json.load(open('../results/aime_deepseek_qwen_14b_summ_base_sum_4iter_seed_3/aime_deepseek_qwen_14b_summ_base_sum_4iter_seed_3_20250514_173254/merged_results_20250515_013458.json'))\n",
    "# results = json.load(open('../results/aime_deepseek_qwen_14b_baseline_firstk_sum_4iter_seed_2/aime_deepseek_qwen_14b_baseline_firstk_sum_4iter_seed_2_20250514_180600/merged_results_20250515_022757.json'))\n",
    "# results = json.load(open('../results/aime_deepseek_qwen_14b_baseline_firstk_sum_4iter_seed_1/aime_deepseek_qwen_14b_baseline_firstk_sum_4iter_seed_1_20250514_233633/results.json'))\n",
    "# results = json.load(open('../results/continuation_aime_deepseek_qwen_14b_4iter_fresh/continuation_aime_deepseek_qwen_14b_4iter_fresh_20250508_222028/results.json'))\n",
    "# results = json.load(open('../results/continuation_aime_deepseek_qwen_14b_4iter_seed_1/continuation_aime_deepseek_qwen_14b_4iter_seed_1_20250515_114452/results.json'))\n",
    "# results = json.load(open('../results/continuation_aime_deepseek_qwen_14b_4iter_seed_3/continuation_aime_deepseek_qwen_14b_4iter_seed_3_20250515_124613/results.json'))\n",
    "# results = json.load(open('../results/aime_deepseek_qwen_14b_baseline_answer_only_sum_4iter_seed_1/aime_deepseek_qwen_14b_baseline_answer_only_sum_4iter_seed_1_20250516_010258/results.json'))\n",
    "# results = json.load(open('../results/aime_deepseek_qwen_14b_baseline_answer_only_sum_4iter_seed_2/aime_deepseek_qwen_14b_baseline_answer_only_sum_4iter_seed_2_20250516_044735/results.json'))\n",
    "# results = json.load(open('../results/aime_deepseek_qwen_14b_baseline_answer_only_sum_4iter_seed_3/aime_deepseek_qwen_14b_baseline_answer_only_sum_4iter_seed_3_20250516_004759/results.json'))\n",
    "results = results['results']"
   ]
  },
  {
   "cell_type": "code",
   "execution_count": 2,
   "metadata": {},
   "outputs": [],
   "source": [
    "def compare_initial_final_correct(results):\n",
    "    total_initial_correct = 0\n",
    "    total_final_correct = 0\n",
    "\n",
    "    for res in results:\n",
    "        if 'iterations' not in res:\n",
    "            print(res['problem_id'])\n",
    "            print(res)\n",
    "            continue\n",
    "        initial_correct = res['iterations'][0]['correct']\n",
    "        final_correct = res['iterations'][-1]['correct']\n",
    "        if initial_correct:\n",
    "            total_initial_correct += 1\n",
    "        if final_correct:\n",
    "            total_final_correct += 1\n",
    "\n",
    "    print(f\"Total problems: {len(results)}\")\n",
    "    print(f\"Initial correct: {total_initial_correct}\")\n",
    "    print(f\"Initial Accuracy: {total_initial_correct / len(results)}\")\n",
    "    print(f\"Final correct: {total_final_correct}\")\n",
    "    print(f\"Final Accuracy: {total_final_correct / len(results)}\")\n",
    "    return total_initial_correct, total_final_correct   "
   ]
  },
  {
   "cell_type": "code",
   "execution_count": 3,
   "metadata": {},
   "outputs": [
    {
     "name": "stdout",
     "output_type": "stream",
     "text": [
      "Total problems: 60\n",
      "Initial correct: 35\n",
      "Initial Accuracy: 0.5833333333333334\n",
      "Final correct: 45\n",
      "Final Accuracy: 0.75\n"
     ]
    },
    {
     "data": {
      "text/plain": [
       "(35, 45)"
      ]
     },
     "execution_count": 3,
     "metadata": {},
     "output_type": "execute_result"
    }
   ],
   "source": [
    "compare_initial_final_correct(results)"
   ]
  },
  {
   "cell_type": "markdown",
   "metadata": {},
   "source": [
    "AIME 2024 vs 2025"
   ]
  },
  {
   "cell_type": "code",
   "execution_count": 4,
   "metadata": {},
   "outputs": [],
   "source": [
    "base_summ_results_2024 = [res for res in results if res['problem_id'].startswith('2024')]\n",
    "\n",
    "def split_into_2024_2025(results):\n",
    "    results_2024 = [res for res in results if res['problem_id'].startswith('2024')]\n",
    "    results_2025 = [res for res in results if not res['problem_id'].startswith('2024')]\n",
    "    return results_2024, results_2025\n",
    "\n",
    "results_2024, results_2025 = split_into_2024_2025(results)"
   ]
  },
  {
   "cell_type": "code",
   "execution_count": 5,
   "metadata": {},
   "outputs": [
    {
     "name": "stdout",
     "output_type": "stream",
     "text": [
      "Results 2024\n",
      "Total problems: 30\n",
      "Initial correct: 23\n",
      "Initial Accuracy: 0.7666666666666667\n",
      "Final correct: 26\n",
      "Final Accuracy: 0.8666666666666667\n",
      "\n",
      "Results 2025\n",
      "Total problems: 30\n",
      "Initial correct: 12\n",
      "Initial Accuracy: 0.4\n",
      "Final correct: 19\n",
      "Final Accuracy: 0.6333333333333333\n",
      "\n",
      "Combined Results\n",
      "Total problems: 60\n",
      "Initial correct: 35\n",
      "Initial Accuracy: 0.5833333333333334\n",
      "Final correct: 45\n",
      "Final Accuracy: 0.75\n",
      "\n"
     ]
    },
    {
     "data": {
      "text/plain": [
       "'23,26,12,19'"
      ]
     },
     "execution_count": 5,
     "metadata": {},
     "output_type": "execute_result"
    }
   ],
   "source": [
    "print(\"Results 2024\")\n",
    "total_initial_correct_2024, total_final_correct_2024 = compare_initial_final_correct(results_2024)\n",
    "print(\"\\nResults 2025\")\n",
    "total_initial_correct_2025, total_final_correct_2025 = compare_initial_final_correct(results_2025)\n",
    "print(\"\\nCombined Results\")\n",
    "compare_initial_final_correct(results)\n",
    "print()\n",
    "\n",
    "\",\".join([str(s) for s in [total_initial_correct_2024, total_final_correct_2024,  total_initial_correct_2025, total_final_correct_2025]])"
   ]
  }
 ],
 "metadata": {
  "kernelspec": {
   "display_name": "venv",
   "language": "python",
   "name": "python3"
  },
  "language_info": {
   "codemirror_mode": {
    "name": "ipython",
    "version": 3
   },
   "file_extension": ".py",
   "mimetype": "text/x-python",
   "name": "python",
   "nbconvert_exporter": "python",
   "pygments_lexer": "ipython3",
   "version": "3.11.6"
  }
 },
 "nbformat": 4,
 "nbformat_minor": 2
}
