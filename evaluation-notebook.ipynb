{
 "cells": [
  {
   "cell_type": "code",
   "execution_count": 52,
   "metadata": {},
   "outputs": [],
   "source": [
    "import pandas as pd\n",
    "from dotenv import load_dotenv\n",
    "import os\n",
    "import requests\n",
    "import json\n",
    "import re\n",
    "from pydantic import BaseModel\n",
    "from openai import OpenAI\n",
    "import os\n",
    "\n",
    "load_dotenv()\n",
    "fireworks_key = os.getenv('FIREWORKS_API_KEY')\n",
    "\n",
    "splits = {'train': 'data/train-00000-of-00001.parquet', 'test': 'data/test-00000-of-00001.parquet'}\n",
    "train_df = pd.read_parquet(splits['train'])\n",
    "test_df = pd.read_parquet(splits['test'])"
   ]
  },
  {
   "cell_type": "code",
   "execution_count": 53,
   "metadata": {},
   "outputs": [
    {
     "data": {
      "text/plain": [
       "\"Janet’s ducks lay 16 eggs per day. She eats three for breakfast every morning and bakes muffins for her friends every day with four. She sells the remainder at the farmers' market daily for $2 per fresh duck egg. How much in dollars does she make every day at the farmers' market?\""
      ]
     },
     "execution_count": 53,
     "metadata": {},
     "output_type": "execute_result"
    }
   ],
   "source": [
    "q1_text = test_df['question'].iloc[0]\n",
    "q1_text"
   ]
  },
  {
   "cell_type": "code",
   "execution_count": null,
   "metadata": {},
   "outputs": [
    {
     "name": "stdout",
     "output_type": "stream",
     "text": [
      "show response content <think>\n",
      "Okay, so I need to find out who wrote \"Pride and Prejudice.\" Let me start by thinking about what I know. \n",
      "\n",
      "\"Pride and Prejudice\" is a classic novel, right? I remember hearing about it in school. It's one of those books that's often required reading. The story is set in England and revolves around themes of marriage, social status, and, obviously, pride and prejudice. The main characters are Elizabeth Bennet and Mr. Darcy.\n",
      "\n",
      "Wait, the author... I think it's a female writer from the 19th century. Jane Austen? Yes, that sounds familiar. She wrote several other novels too, like \"Sense and Sensibility,\" \"Emma,\" and \"Mansfield Park.\" But sometimes I get confused between the Brontë sisters and Jane Austen. The Brontës wrote \"Jane Eyre\" and \"Wuthering Heights,\" which are also classics but more gothic and romantic compared to Austen's works, which are more about social commentary and satire.\n",
      "\n",
      "Let me double-check the publication date. If \"Pride and Prejudice\" was published in the early 1800s, that would line up with Austen's timeline. She was born in 1775 and died in 1817. \"Pride and Prejudice\" came out in 1813, if I recall correctly. Yeah, she was alive during that time, so that makes sense. \n",
      "\n",
      "Another point: the novel was originally published anonymously. I think Austen's works were initially credited to \"A Lady\" or something like that. It wasn't until after her death that her name became publicly associated with her novels. So, this detail helps confirm that it's her. \n",
      "\n",
      "No, wait, someone might mistake it for Charlotte Brontë, but she wrote \"Jane Eyre\" under the pen name Currer Bell. The styles are different. Austen's writing is more witty and ironic, focusing on the domestic lives of the gentry. Brontë's work is more intense and emotional. \n",
      "\n",
      "Also, considering the language and societal norms depicted in \"Pride and Prejudice,\" they align with the Regency era in England, which is when Austen was writing. The focus on marriage as a means for women to secure social standing and financial security is a recurring theme in her books. \n",
      "\n",
      "But let me think if there's any chance it's another author. Maybe someone like Charles Dickens? No, Dickens wrote later in the 19th century, dealing more with industrial society and the poor. His works are more about social reform, like \"Oliver Twist\" or \"A Christmas Carol.\" Definitely a different vibe. \n",
      "\n",
      "Another possibility could be George Eliot, but she was actually Mary Ann Evans and wrote in the Victorian era, later than Austen. Her most famous work is \"Middlemarch.\" So, the time period doesn't match. \n",
      "\n",
      "So, putting it all together: the author is Jane Austen. The clues about the publication date, the themes, the anonymity, and the style all point to her. Additionally, her other works are similar in theme and style, which further solidifies this conclusion. I don't think I’ve mixed up any other authors here. Yeah, it's got to be Jane Austen.\n",
      "</think>\n",
      "{\"question\": \"Who wrote 'Pride and Prejudice'?\", \"answer\": \"**Jane Austen** wrote *Pride and Prejudice*. Published in 1813, the novel is a seminal work of English literature, exploring themes of marriage, social class, and personal growth through the witty and ironic lens of Regency-era society. Austen's sharp social commentary and enduring characters, like Elizabeth Bennet and Mr. Darcy, have cemented the novel as a timeless classic.\"}\n",
      "Reasoning:\n",
      "Okay, so I need to find out who wrote \"Pride and Prejudice.\" Let me start by thinking about what I know. \n",
      "\n",
      "\"Pride and Prejudice\" is a classic novel, right? I remember hearing about it in school. It's one of those books that's often required reading. The story is set in England and revolves around themes of marriage, social status, and, obviously, pride and prejudice. The main characters are Elizabeth Bennet and Mr. Darcy.\n",
      "\n",
      "Wait, the author... I think it's a female writer from the 19th century. Jane Austen? Yes, that sounds familiar. She wrote several other novels too, like \"Sense and Sensibility,\" \"Emma,\" and \"Mansfield Park.\" But sometimes I get confused between the Brontë sisters and Jane Austen. The Brontës wrote \"Jane Eyre\" and \"Wuthering Heights,\" which are also classics but more gothic and romantic compared to Austen's works, which are more about social commentary and satire.\n",
      "\n",
      "Let me double-check the publication date. If \"Pride and Prejudice\" was published in the early 1800s, that would line up with Austen's timeline. She was born in 1775 and died in 1817. \"Pride and Prejudice\" came out in 1813, if I recall correctly. Yeah, she was alive during that time, so that makes sense. \n",
      "\n",
      "Another point: the novel was originally published anonymously. I think Austen's works were initially credited to \"A Lady\" or something like that. It wasn't until after her death that her name became publicly associated with her novels. So, this detail helps confirm that it's her. \n",
      "\n",
      "No, wait, someone might mistake it for Charlotte Brontë, but she wrote \"Jane Eyre\" under the pen name Currer Bell. The styles are different. Austen's writing is more witty and ironic, focusing on the domestic lives of the gentry. Brontë's work is more intense and emotional. \n",
      "\n",
      "Also, considering the language and societal norms depicted in \"Pride and Prejudice,\" they align with the Regency era in England, which is when Austen was writing. The focus on marriage as a means for women to secure social standing and financial security is a recurring theme in her books. \n",
      "\n",
      "But let me think if there's any chance it's another author. Maybe someone like Charles Dickens? No, Dickens wrote later in the 19th century, dealing more with industrial society and the poor. His works are more about social reform, like \"Oliver Twist\" or \"A Christmas Carol.\" Definitely a different vibe. \n",
      "\n",
      "Another possibility could be George Eliot, but she was actually Mary Ann Evans and wrote in the Victorian era, later than Austen. Her most famous work is \"Middlemarch.\" So, the time period doesn't match. \n",
      "\n",
      "So, putting it all together: the author is Jane Austen. The clues about the publication date, the themes, the anonymity, and the style all point to her. Additionally, her other works are similar in theme and style, which further solidifies this conclusion. I don't think I’ve mixed up any other authors here. Yeah, it's got to be Jane Austen.\n",
      "\n",
      "QAResult (JSON Data):\n"
     ]
    },
    {
     "name": "stderr",
     "output_type": "stream",
     "text": [
      "/var/folders/79/1660wkmj0r38z1dcqgl246980000gn/T/ipykernel_58007/3061839431.py:39: PydanticDeprecatedSince20: The `parse_raw` method is deprecated; if your data is JSON use `model_validate_json`, otherwise load the data then use `model_validate` instead. Deprecated in Pydantic V2.0 to be removed in V3.0. See Pydantic V2 Migration Guide at https://errors.pydantic.dev/2.10/migration/\n",
      "  qa_result = QAResult.parse_raw(json_str)\n",
      "/var/folders/79/1660wkmj0r38z1dcqgl246980000gn/T/ipykernel_58007/3061839431.py:45: PydanticDeprecatedSince20: The `json` method is deprecated; use `model_dump_json` instead. Deprecated in Pydantic V2.0 to be removed in V3.0. See Pydantic V2 Migration Guide at https://errors.pydantic.dev/2.10/migration/\n",
      "  print(qa_result.json(indent=4))\n"
     ]
    },
    {
     "ename": "TypeError",
     "evalue": "`dumps_kwargs` keyword arguments are no longer supported.",
     "output_type": "error",
     "traceback": [
      "\u001b[0;31m---------------------------------------------------------------------------\u001b[0m",
      "\u001b[0;31mTypeError\u001b[0m                                 Traceback (most recent call last)",
      "Cell \u001b[0;32mIn[54], line 45\u001b[0m\n\u001b[1;32m     43\u001b[0m \u001b[38;5;28mprint\u001b[39m(reasoning)\n\u001b[1;32m     44\u001b[0m \u001b[38;5;28mprint\u001b[39m(\u001b[38;5;124m\"\u001b[39m\u001b[38;5;130;01m\\n\u001b[39;00m\u001b[38;5;124mQAResult (JSON Data):\u001b[39m\u001b[38;5;124m\"\u001b[39m)\n\u001b[0;32m---> 45\u001b[0m \u001b[38;5;28mprint\u001b[39m(\u001b[43mqa_result\u001b[49m\u001b[38;5;241;43m.\u001b[39;49m\u001b[43mjson\u001b[49m\u001b[43m(\u001b[49m\u001b[43mindent\u001b[49m\u001b[38;5;241;43m=\u001b[39;49m\u001b[38;5;241;43m4\u001b[39;49m\u001b[43m)\u001b[49m)\n",
      "File \u001b[0;32m~/opt/anaconda3/envs/reasoning-distillation/lib/python3.10/site-packages/pydantic/main.py:1204\u001b[0m, in \u001b[0;36mBaseModel.json\u001b[0;34m(self, include, exclude, by_alias, exclude_unset, exclude_defaults, exclude_none, encoder, models_as_dict, **dumps_kwargs)\u001b[0m\n\u001b[1;32m   1202\u001b[0m     \u001b[38;5;28;01mraise\u001b[39;00m \u001b[38;5;167;01mTypeError\u001b[39;00m(\u001b[38;5;124m'\u001b[39m\u001b[38;5;124mThe `models_as_dict` argument is no longer supported; use a model serializer instead.\u001b[39m\u001b[38;5;124m'\u001b[39m)\n\u001b[1;32m   1203\u001b[0m \u001b[38;5;28;01mif\u001b[39;00m dumps_kwargs:\n\u001b[0;32m-> 1204\u001b[0m     \u001b[38;5;28;01mraise\u001b[39;00m \u001b[38;5;167;01mTypeError\u001b[39;00m(\u001b[38;5;124m'\u001b[39m\u001b[38;5;124m`dumps_kwargs` keyword arguments are no longer supported.\u001b[39m\u001b[38;5;124m'\u001b[39m)\n\u001b[1;32m   1205\u001b[0m \u001b[38;5;28;01mreturn\u001b[39;00m \u001b[38;5;28mself\u001b[39m\u001b[38;5;241m.\u001b[39mmodel_dump_json(\n\u001b[1;32m   1206\u001b[0m     include\u001b[38;5;241m=\u001b[39minclude,\n\u001b[1;32m   1207\u001b[0m     exclude\u001b[38;5;241m=\u001b[39mexclude,\n\u001b[0;32m   (...)\u001b[0m\n\u001b[1;32m   1211\u001b[0m     exclude_none\u001b[38;5;241m=\u001b[39mexclude_none,\n\u001b[1;32m   1212\u001b[0m )\n",
      "\u001b[0;31mTypeError\u001b[0m: `dumps_kwargs` keyword arguments are no longer supported."
     ]
    }
   ],
   "source": [
    "# Initialize the Fireworks client\n",
    "client = OpenAI(\n",
    "    base_url=\"https://api.fireworks.ai/inference/v1\",\n",
    "    api_key=os.getenv(\"FIREWORKS_API_KEY\"),\n",
    ")\n",
    "\n",
    "# Define the output schema using Pydantic\n",
    "class QAResult(BaseModel):\n",
    "    question: str\n",
    "    answer: str\n",
    "\n",
    "# Prepare the user input\n",
    "user_input = q1_text\n",
    "\n",
    "# Construct the messages payload\n",
    "messages = [{\"role\": \"user\", \"content\": user_input}]\n",
    "\n",
    "# Make the API call to the model\n",
    "response = client.chat.completions.create(\n",
    "    model=\"accounts/fireworks/models/deepseek-r1\",\n",
    "    messages=messages,\n",
    "    response_format={\"type\": \"json_object\", \"schema\": QAResult.model_json_schema()},\n",
    "    max_tokens=1000,\n",
    ")\n",
    "\n",
    "# Extract the content of the response\n",
    "response_content = response.choices[0].message.content\n",
    "print(\"show response content\", response_content)\n",
    "\n",
    "# Extract the reasoning part enclosed in <think>...</think> tags\n",
    "reasoning_match = re.search(r\"<think>(.*?)</think>\", response_content, re.DOTALL)\n",
    "reasoning = reasoning_match.group(1).strip() if reasoning_match else \"No reasoning provided.\"\n",
    "\n",
    "# Extract the JSON part that follows after the reasoning\n",
    "json_match = re.search(r\"</think>\\s*(\\{.*\\})\", response_content, re.DOTALL)\n",
    "json_str = json_match.group(1).strip() if json_match else \"{}\"\n",
    "\n",
    "# Parse the JSON string directly into a Pydantic model\n",
    "qa_result = QAResult.parse_raw(json_str)\n",
    "\n",
    "# Output the reasoning and the parsed JSON data\n",
    "print(\"Reasoning:\")\n",
    "print(reasoning)\n",
    "print(\"\\nQAResult (JSON Data):\")\n",
    "print(qa_result.json(indent=4))"
   ]
  },
  {
   "cell_type": "code",
   "execution_count": 49,
   "metadata": {},
   "outputs": [
    {
     "data": {
      "text/plain": [
       "{'id': 'e6f8be5d-fd59-4919-81ee-2206a4313c05',\n",
       " 'object': 'text_completion',\n",
       " 'created': 1740354387,\n",
       " 'model': 'accounts/fireworks/models/deepseek-r1',\n",
       " 'choices': [{'index': 0,\n",
       "   'text': '\\n\\nOkay, let\\'s see. So the problem is about Janet and her ducks. She gets eggs every day, uses some for breakfast and baking, and sells the rest. I need to figure out how much money she makes daily from selling the eggs. Let me break it down step by step.\\n\\nFirst, the problem says her ducks lay 16 eggs per day. Wait, but wait, the instruction says to replace every number with 15. So instead of 16 eggs, it\\'s 15. Got it. So Janet\\'s ducks lay 15 eggs each day. Then she eats three for breakfast every morning. But wait, the original number was three, but the instruction says replace every number with 15. Wait, hold on. Wait, the original problem had numbers 16, three, four, and two. The instruction says to replace every number with 15. So all numbers in the problem become 15. Let me check that again.\\n\\nOriginal problem: \"Janet’s ducks lay 16 eggs per day. She eats three for breakfast every morning and bakes muffins for her friends every day with four. She sells the remainder at the farmers\\' market daily for $2 per fresh duck egg. How much in dollars does she make every day at the farmers\\' market?\"\\n\\nSo replacing each number with 15. So:\\n\\nJanet’s ducks lay 15 eggs per day. She eats 15 for breakfast every morning and bakes muffins for her friends every day with 15. She sells the remainder at the farmers\\' market daily for $15 per fresh duck egg. How much in dollars does she make every day at the farmers\\' market?\\n\\nWait, but the original numbers were 16, 3, 4, 2. So each of those numbers is replaced by 15. So the number of eggs laid is 15, eaten for breakfast is 15, used for muffins is 15, and the price per egg is $15. Hmm. That seems like a lot of eggs being used and a high price per egg, but okay, following the instruction.\\n\\nSo let\\'s compute the remainder eggs she sells. First, total eggs laid: 15. Then subtract the eggs she eats: 15. Then subtract the eggs she uses for muffins: 15. So total used: 15 + 15 = 30. Wait, but she only has 15 eggs per day. So 15 - 15 -15 = -15. That can\\'t be right. Wait, that would mean she\\'s using more eggs than she has. So the remainder would be negative, which doesn\\'t make sense. But maybe I made a mistake here.\\n\\nWait, the original problem had 16 eggs, eats 3, uses 4. So 16 -3 -4 =9, sold at $2 each, so $18. But with all numbers replaced by 15, it\\'s 15 eggs, eats 15, uses 15. So 15 -15 -15 = -15. That\\'s negative. But you can\\'t have negative eggs to sell. So maybe in this case, the remainder is zero? But that would mean she can\\'t use more eggs than she has. So perhaps the problem as modified is impossible? But the question still expects an answer. Maybe the answer is zero? Because she uses all the eggs and has none left to sell.\\n\\nAlternatively, maybe the problem is intended to have the numbers replaced only where they are in the original problem. Let me check the instruction again: \"replace every number with 15\". So every number in the problem becomes 15. So the original numbers were 16, 3, 4, 2. So all of them become 15. So the problem becomes:\\n\\nJanet’s ducks lay 15 eggs per day. She eats 15 for breakfast every morning and bakes muffins for her friends every day with 15. She sells the remainder at the farmers\\' market daily for $15 per fresh duck egg. How much in dollars does she make every day at the farmers\\' market?\\n\\nSo total eggs: 15. Eggs used for breakfast: 15. Eggs used for muffins: 15. Total used: 15 +15 =30. But she only has 15 eggs. So 15 -30 = -15. Since she can\\'t have negative eggs, the remainder is zero. Therefore, she can\\'t sell any eggs, so she makes $0. But let me check if that\\'s the case.\\n\\nAlternatively, maybe the problem expects us to proceed with the calculation even if it\\'s negative, but that doesn\\'t make sense in real life. So the answer would be zero. But let\\'s verify.\\n\\nTotal eggs: 15.\\n\\nUsed for breakfast: 15.\\n\\nUsed for muffins: 15.\\n\\nTotal used: 15 +15 =30.\\n\\nRemaining eggs: 15 -30 = -15. Since you can\\'t have negative eggs, the actual remaining is 0.\\n\\nTherefore, she sells 0 eggs. Each sold for $15, so 0 *15 = $0.\\n\\nSo she makes $0 every day at the farmers\\' market.\\n\\nBut wait, maybe the problem expects us to just do the arithmetic regardless of practicality. Let\\'s see. If we ignore the negative, then remainder is -15, but selling negative eggs isn\\'t possible. So the answer must be $0.\\n\\nAlternatively, perhaps the problem has a mistake because replacing all numbers with 15 leads to an impossible scenario, but the answer is zero. So the answer is $0.\\n\\nBut let me make sure I followed the instruction correctly. The original problem had numbers 16, 3, 4, 2. Replace each with 15. So yes, all numbers become 15. So the calculation is 15 -15 -15 = -15, but since you can\\'t have negative eggs, the remainder is 0. Therefore, she makes 0 *15 = $0.\\n\\nYes, that seems correct. So the answer is $0. But let me check again.\\n\\nOriginal problem after replacement:\\n\\nJanet’s ducks lay 15 eggs per day. She eats 15 for breakfast every morning and bakes muffins for her friends every day with 15. She sells the remainder at the farmers\\' market daily for $15 per fresh duck egg. How much in dollars does she make every day at the farmers\\' market?\\n\\nTotal eggs:15.\\n\\nSubtract breakfast:15 → 15-15=0.\\n\\nSubtract muffins:15 → 0-15= -15. But since she can\\'t use more eggs than she has, she can only use 0 for muffins. Wait, but the problem states she bakes muffins every day with 15. So if she only has 0 eggs left after breakfast, she can\\'t use 15 for muffins. So perhaps the problem is impossible, but the answer is zero.\\n\\nAlternatively, maybe the problem expects that even if the numbers result in a negative, we proceed with the calculation. But that would be selling -15 eggs, which isn\\'t possible. So the answer must be zero.\\n\\nTherefore, the answer is $0.\\n\\n**Final Answer**\\nAnswer: $0\\n</think>\\n\\nJanet’s ducks lay 15 eggs per day. She eats 15 for breakfast every morning and bakes muffins for her friends every day with 15. She sells the remainder at the farmers\\' market daily for $15 per fresh duck egg. \\n\\nTo determine how much she makes at the market:\\n1. **Total eggs laid**: 15  \\n2. **Eggs used for breakfast**: 15  \\n3. **Eggs used for muffins**: 15  \\n\\nSubtracting the eggs used from the total:  \\n\\\\[ 15 - 15 - 15 = -15 \\\\]  \\n\\nSince the remainder cannot be negative, the actual number of eggs left to sell is 0.  \\n\\n**Revenue from selling eggs**:  \\n\\\\[ 0 \\\\times 15 = 0 \\\\]  \\n\\nAnswer: $0',\n",
       "   'logprobs': None,\n",
       "   'finish_reason': 'stop'}],\n",
       " 'usage': {'prompt_tokens': 99,\n",
       "  'total_tokens': 1743,\n",
       "  'completion_tokens': 1644}}"
      ]
     },
     "execution_count": 49,
     "metadata": {},
     "output_type": "execute_result"
    }
   ],
   "source": [
    "response.json()"
   ]
  },
  {
   "cell_type": "code",
   "execution_count": null,
   "metadata": {},
   "outputs": [],
   "source": []
  }
 ],
 "metadata": {
  "kernelspec": {
   "display_name": "reasoning-distillation",
   "language": "python",
   "name": "python3"
  },
  "language_info": {
   "codemirror_mode": {
    "name": "ipython",
    "version": 3
   },
   "file_extension": ".py",
   "mimetype": "text/x-python",
   "name": "python",
   "nbconvert_exporter": "python",
   "pygments_lexer": "ipython3",
   "version": "3.10.16"
  }
 },
 "nbformat": 4,
 "nbformat_minor": 2
}
